{
 "cells": [
  {
   "cell_type": "code",
   "execution_count": 58,
   "metadata": {},
   "outputs": [],
   "source": [
    "import os, csv\n",
    "import pandas as pd\n",
    "import numpy as np\n",
    "from keras.preprocessing import sequence\n",
    "import matplotlib.pyplot as plt\n",
    "from keras.models import Sequential, Model\n",
    "from keras import layers, Input\n",
    "from keras.optimizers import RMSprop, Adam\n",
    "from sklearn.model_selection import train_test_split\n",
    "\n",
    "from __future__ import print_function\n",
    "import numpy as np\n",
    "np.random.seed(1337)  # for reproducibility\n",
    "\n",
    "import csv\n",
    "import os,random\n",
    "\n",
    "from keras.models import Sequential\n",
    "from keras.layers import Dense\n",
    "from keras.layers.convolutional import Convolution1D\n",
    "from keras.layers.core import Dropout, Activation, Flatten\n",
    "from keras.layers.advanced_activations import LeakyReLU\n",
    "from keras.optimizers import *\n",
    "from keras.callbacks import EarlyStopping\n",
    "\n",
    "import matplotlib.pyplot as plt\n",
    "%matplotlib inline\n",
    "\n",
    "from sklearn.metrics import mean_squared_error\n",
    "from math import sqrt\n",
    "\n",
    "import datetime\n",
    "now = datetime.datetime.now"
   ]
  },
  {
   "cell_type": "code",
   "execution_count": 71,
   "metadata": {},
   "outputs": [
    {
     "name": "stdout",
     "output_type": "stream",
     "text": [
      "(505, 2)\n",
      "(904, 2)\n",
      "(479, 2)\n",
      "(552, 2)\n",
      "(996, 2)\n",
      "(697, 2)\n",
      "(561, 2)\n",
      "(880, 2)\n",
      "(1134, 2)\n",
      "(799, 2)\n",
      "(652, 2)\n",
      "(591, 2)\n",
      "(435, 2)\n",
      "(520, 2)\n",
      "(948, 2)\n",
      "(602, 2)\n",
      "(437, 2)\n",
      "(928, 2)\n",
      "(853, 2)\n",
      "(754, 2)\n",
      "(599, 2)\n",
      "(568, 2)\n",
      "(518, 2)\n",
      "(507, 2)\n",
      "(551, 2)\n",
      "(520, 2)\n",
      "(570, 2)\n",
      "(912, 2)\n",
      "(1094, 2)\n",
      "(920, 2)\n",
      "(1135, 2)\n",
      "(627, 2)\n",
      "(535, 2)\n",
      "(417, 2)\n",
      "(507, 2)\n",
      "(714, 2)\n",
      "(444, 2)\n",
      "(314, 2)\n",
      "(568, 2)\n",
      "(838, 2)\n",
      "(1003, 2)\n",
      "(783, 2)\n",
      "(817, 2)\n",
      "(898, 2)\n",
      "(1515, 2)\n",
      "(577, 2)\n",
      "(621, 2)\n",
      "(399, 2)\n",
      "(777, 2)\n",
      "(526, 2)\n",
      "(623, 2)\n",
      "(813, 2)\n",
      "(2487, 2)\n",
      "(699, 2)\n",
      "(288, 2)\n",
      "here\n",
      "(288, 2)\n",
      "(706, 2)\n",
      "(1222, 2)\n",
      "(405, 2)\n",
      "(974, 2)\n",
      "(1094, 2)\n",
      "(1003, 2)\n",
      "(1159, 2)\n",
      "(596, 2)\n",
      "(502, 2)\n",
      "(1221, 2)\n",
      "(781, 2)\n",
      "(1543, 2)\n",
      "(392, 2)\n",
      "(568, 2)\n",
      "(459, 2)\n",
      "(476, 2)\n",
      "(605, 2)\n",
      "(499, 2)\n",
      "(540, 2)\n",
      "(453, 2)\n",
      "(658, 2)\n",
      "(532, 2)\n",
      "(700, 2)\n",
      "x_val shape: (78, 700, 2)\n"
     ]
    },
    {
     "data": {
      "image/png": "[encoded data removed]",
      "text/plain": [
       "<Figure size 432x288 with 1 Axes>"
      ]
     },
     "metadata": {
      "needs_background": "light"
     },
     "output_type": "display_data"
    }
   ],
   "source": [
    "types = {'B_ID':8, 'E_ID':17, 'NE_ID':27, 'S_ID':10, 'P_ID':16}\n",
    "x_val = []\n",
    "x_id = []\n",
    "for ids, vals in types.items():\n",
    "    for i in range(1,vals+1):\n",
    "        x_id.append(ids + str(i))\n",
    "        try: \n",
    "            with open(\"./po-cf-ex-1-features/\"+ids+str(i)+\".csv\", 'r') as f:\n",
    "                temp = list(csv.reader(f, delimiter = \",\"))\n",
    "            temp = np.asarray(temp)\n",
    "            temp = temp[:,:2].astype(np.float64)\n",
    "        except:\n",
    "            print(ids, i)\n",
    "        print(temp.shape)\n",
    "        if i==3 and ids == 'S_ID':\n",
    "            print(\"here\")\n",
    "            plt.plot(temp[:,1])\n",
    "            print(temp.shape)\n",
    "        x_val.append(temp.tolist())\n",
    "# x_val = np.asarray(sequence.pad_sequences(x_val, maxlen=700)).astype(np.float64)\n",
    "print(\"x_val shape:\", x_val.shape)\n",
    "# len(x_val[1][0])"
   ]
  },
  {
   "cell_type": "code",
   "execution_count": 60,
   "metadata": {},
   "outputs": [
    {
     "name": "stderr",
     "output_type": "stream",
     "text": [
      "/home/yash/.local/lib/python3.8/site-packages/openpyxl/worksheet/_reader.py:312: UserWarning: Unknown extension is not supported and will be removed\n",
      "  warn(msg)\n"
     ]
    },
    {
     "name": "stdout",
     "output_type": "stream",
     "text": [
      "E_ID16\n",
      "shape of CF:  (78,)\n",
      "shape of PO:  (78,)\n",
      "[15.         12.          9.39439192  7.78382608 13.         15.\n",
      "  8.         14.33333333 14.66666667 14.33333333 13.33333333 14.\n",
      " 14.33333333 15.         15.         14.66666667 15.         15.\n",
      " 15.         15.         15.         15.         15.         15.\n",
      "  0.         12.66666667 14.33333333 15.         14.33333333 13.\n",
      " 14.         15.         15.         15.          7.         15.\n",
      " 15.         15.         15.         12.         15.         13.\n",
      " 13.         15.         13.         14.         14.         10.\n",
      " 15.         13.         15.         15.          3.         11.\n",
      " 15.          6.          7.58350731  8.41349572  6.33333333 11.\n",
      "  6.33333333 10.         13.          9.         15.          7.\n",
      "  6.         15.          7.          8.         15.         12.83313884\n",
      "  5.66666667 10.33333333 11.66666667 15.          9.         14.66666667]\n"
     ]
    }
   ],
   "source": [
    "# df = pd.read_excel(\"./KiMoRe/E_ID1/Es1/Label/ClinicalAssessment_E_ID1.xlsx\")\n",
    "# np.array(df).reshape((16,))\n",
    "# df\n",
    "po_val = []\n",
    "cf_val = []\n",
    "for ids in x_id:\n",
    "    try:\n",
    "        df = pd.read_excel(\"./KiMoRe/\"+ids+\"/Es1/Label/ClinicalAssessment_\"+ids+\".xlsx\")\n",
    "    except:\n",
    "        print(\"problem in: \", ids)\n",
    "    df = np.array(df).reshape((16,))\n",
    "    po_val.append(df[6])\n",
    "    cf_val.append(df[11])\n",
    "    if len(po_val)==24:\n",
    "        print(ids)\n",
    "po_val = np.asarray(po_val).astype(np.float64)\n",
    "cf_val = np.asarray(cf_val).astype(np.float64)\n",
    "print(\"shape of CF: \", cf_val.shape)\n",
    "print(\"shape of PO: \", po_val.shape)\n",
    "# print(po_val)\n",
    "for i in range(78):\n",
    "    if np.isnan(po_val[i]):\n",
    "        po_val[i] = 0\n",
    "print(po_val)\n"
   ]
  },
  {
   "cell_type": "code",
   "execution_count": 19,
   "metadata": {},
   "outputs": [
    {
     "data": {
      "text/plain": [
       "[[21.225, 13.998]]"
      ]
     },
     "execution_count": 19,
     "metadata": {},
     "output_type": "execute_result"
    }
   ],
   "source": [
    "# plt.plot(x_val[0][:][1])\n",
    "x_val[0][:][]"
   ]
  },
  {
   "cell_type": "code",
   "execution_count": 72,
   "metadata": {},
   "outputs": [],
   "source": [
    "def Network():\n",
    "    model = Sequential()\n",
    "    model.add(Convolution1D(60, 5, padding ='same', strides = 2, input_shape = (timesteps,n_dim)))\n",
    "    model.add(LeakyReLU())\n",
    "    model.add(Dropout(dropout_rate))\n",
    "\n",
    "    model.add(Convolution1D(30, 3, padding ='same', strides = 2))\n",
    "    model.add(LeakyReLU())\n",
    "    model.add(Dropout(dropout_rate))\n",
    "\n",
    "    model.add(Convolution1D(10, 3, padding ='same'))\n",
    "    model.add(LeakyReLU())\n",
    "    model.add(Dropout(dropout_rate))\n",
    "\n",
    "    model.add(Flatten())\n",
    "\n",
    "    model.add(Dense(200))\n",
    "    model.add(LeakyReLU())\n",
    "    model.add(Dropout(dropout_rate))\n",
    "\n",
    "    model.add(Dense(100))\n",
    "    model.add(LeakyReLU())\n",
    "    model.add(Dropout(dropout_rate))\n",
    "\n",
    "    model.add(Dense(1))\n",
    "    model.add(Activation('sigmoid'))\n",
    "\n",
    "\n",
    "    model.compile(loss='binary_crossentropy', optimizer=Adam())\n",
    "    \n",
    "    # Early stopping if the validaton Loss does not decrease for 100 epochs\n",
    "    early_stopping = EarlyStopping(monitor='val_loss', patience = 100)\n",
    "\n",
    "    t = now()\n",
    "    history = model.fit(x_train, y_train, batch_size=5, epochs=200, verbose=1, \n",
    "                     validation_data=(x_test, y_test),\n",
    "                     callbacks = [early_stopping])\n",
    "    print('Training time: %s' % (now() - t))\n",
    "    \n",
    "    # Plot the results\n",
    "    plt.figure(1)\n",
    "    plt.subplot(221)\n",
    "    plt.plot(history.history['loss'])\n",
    "    plt.title('Training Loss')\n",
    "    plt.subplot(222)\n",
    "    plt.plot(history.history['val_loss'])\n",
    "    plt.title('Validation Loss')\n",
    "    plt.tight_layout()\n",
    "    plt.show()\n",
    "    \n",
    "    # Plot the prediction of the CNN model for the training and validation sets\n",
    "    pred_train = model.predict(x_train)\n",
    "    pred_test = model.predict(x_test)\n",
    "\n",
    "    plt.figure(figsize = (8,8))\n",
    "    plt.subplot(2,1,1)\n",
    "    plt.plot(pred_train,'s', color='red', label='Prediction', linestyle='None', alpha = 0.5, markersize=6)\n",
    "    plt.plot(y_train,'o', color='green',label='Quality Score', alpha = 0.4, markersize=6)\n",
    "    plt.ylim([-0.1,1.1])\n",
    "    plt.title('Training Set',fontsize=18)\n",
    "    plt.xlabel('Sequence Number',fontsize=16)\n",
    "    plt.ylabel('Quality Scale',fontsize=16)\n",
    "    plt.legend(loc=3, prop={'size':14}) # loc:position\n",
    "    plt.subplot(2,1,2)\n",
    "    plt.plot(pred_test,'s', color='red', label='Prediction', linestyle='None', alpha = 0.5, markersize=6)\n",
    "    plt.plot(y_test,'o', color='green',label='Quality Score', alpha = 0.4, markersize=6)\n",
    "    plt.title('Testing Set',fontsize=18)\n",
    "    plt.ylim([-0.1,1.1])\n",
    "    plt.xlabel('Sequence Number',fontsize=16)\n",
    "    plt.ylabel('Quality Scale',fontsize=16)\n",
    "    plt.legend(loc=3, prop={'size':14}) # loc:position\n",
    "    plt.tight_layout()\n",
    "    plt.savefig('../../Results/CNN_Vicon_Scores.png', dpi=300)\n",
    "    plt.show()\n",
    "    \n",
    "    # Calculate the cumulative deviation and rms deviation for the validation set\n",
    "    test_dev = abs(np.squeeze(pred_test)-y_test)\n",
    "    # Cumulative deviation\n",
    "    mean_abs_dev = np.mean(test_dev)\n",
    "    # RMS deviation\n",
    "    rms_dev = sqrt(mean_squared_error(pred_test, y_test))\n",
    "    print('Mean absolute deviation:', mean_abs_dev)\n",
    "    print('RMS deviation:', rms_dev)\n",
    "    \n",
    "    return mean_abs_dev, rms_dev"
   ]
  },
  {
   "cell_type": "code",
   "execution_count": 73,
   "metadata": {},
   "outputs": [
    {
     "name": "stdout",
     "output_type": "stream",
     "text": [
      "Epoch 1/200\n",
      "11/11 [==============================] - 1s 24ms/step - loss: -3565.4336 - val_loss: -46427.0000\n",
      "Epoch 2/200\n",
      "11/11 [==============================] - 0s 13ms/step - loss: -116669.4046 - val_loss: -670164.9375\n",
      "Epoch 3/200\n",
      "11/11 [==============================] - 0s 11ms/step - loss: -1224351.4375 - val_loss: -5433838.5000\n",
      "Epoch 4/200\n",
      "11/11 [==============================] - 0s 13ms/step - loss: -8610934.6875 - val_loss: -30409568.0000\n",
      "Epoch 5/200\n",
      "11/11 [==============================] - 0s 12ms/step - loss: -46129660.6667 - val_loss: -133243672.0000\n",
      "Epoch 6/200\n",
      "11/11 [==============================] - 0s 13ms/step - loss: -175461470.6667 - val_loss: -477046432.0000\n",
      "Epoch 7/200\n",
      "11/11 [==============================] - 0s 13ms/step - loss: -643697829.3333 - val_loss: -1475143808.0000\n",
      "Epoch 8/200\n",
      "11/11 [==============================] - 0s 11ms/step - loss: -1701638890.6667 - val_loss: -3981506816.0000\n",
      "Epoch 9/200\n",
      "11/11 [==============================] - 0s 13ms/step - loss: -4961608320.0000 - val_loss: -9724684288.0000\n",
      "Epoch 10/200\n",
      "11/11 [==============================] - 0s 13ms/step - loss: -11097801472.0000 - val_loss: -21747525632.0000\n",
      "Epoch 11/200\n",
      "11/11 [==============================] - 0s 12ms/step - loss: -25750878890.6667 - val_loss: -45387464704.0000\n",
      "Epoch 12/200\n",
      "11/11 [==============================] - 0s 13ms/step - loss: -50960077141.3333 - val_loss: -89275621376.0000\n",
      "Epoch 13/200\n",
      "11/11 [==============================] - 0s 12ms/step - loss: -97725786112.0000 - val_loss: -166685835264.0000\n",
      "Epoch 14/200\n",
      "11/11 [==============================] - 0s 12ms/step - loss: -193868898304.0000 - val_loss: -296515600384.0000\n",
      "Epoch 15/200\n",
      "11/11 [==============================] - 0s 12ms/step - loss: -300197104298.6667 - val_loss: -502758899712.0000\n",
      "Epoch 16/200\n",
      "11/11 [==============================] - 0s 13ms/step - loss: -559426248704.0000 - val_loss: -826696531968.0000\n",
      "Epoch 17/200\n",
      "11/11 [==============================] - 0s 12ms/step - loss: -834533348693.3334 - val_loss: -1306777223168.0000\n",
      "Epoch 18/200\n",
      "11/11 [==============================] - 0s 13ms/step - loss: -1353512779776.0000 - val_loss: -2026325934080.0000\n",
      "Epoch 19/200\n",
      "11/11 [==============================] - 0s 13ms/step - loss: -2070444430677.3333 - val_loss: -3043089186816.0000\n",
      "Epoch 20/200\n",
      "11/11 [==============================] - 0s 12ms/step - loss: -3215144452096.0000 - val_loss: -4481101594624.0000\n",
      "Epoch 21/200\n",
      "11/11 [==============================] - 0s 17ms/step - loss: -4148974299818.6665 - val_loss: -6442429972480.0000\n",
      "Epoch 22/200\n",
      "11/11 [==============================] - 0s 19ms/step - loss: -6770526956202.6670 - val_loss: -9176340234240.0000\n",
      "Epoch 23/200\n",
      "11/11 [==============================] - 0s 13ms/step - loss: -9013137986901.3340 - val_loss: -12732567912448.0000\n",
      "Epoch 24/200\n",
      "11/11 [==============================] - 0s 13ms/step - loss: -13172629132629.3340 - val_loss: -17408332922880.0000\n",
      "Epoch 25/200\n",
      "11/11 [==============================] - 0s 13ms/step - loss: -17428306810197.3340 - val_loss: -23531312119808.0000\n",
      "Epoch 26/200\n",
      "11/11 [==============================] - 0s 23ms/step - loss: -22850197520384.0000 - val_loss: -31300278812672.0000\n",
      "Epoch 27/200\n",
      "11/11 [==============================] - 0s 22ms/step - loss: -33093467329877.3320 - val_loss: -41339223801856.0000\n",
      "Epoch 28/200\n",
      "11/11 [==============================] - 0s 15ms/step - loss: -41383987511296.0000 - val_loss: -53639229997056.0000\n",
      "Epoch 29/200\n",
      "11/11 [==============================] - 0s 17ms/step - loss: -55201584469333.3359 - val_loss: -69084716728320.0000\n",
      "Epoch 30/200\n",
      "11/11 [==============================] - 0s 22ms/step - loss: -66750105255936.0000 - val_loss: -87805506093056.0000\n",
      "Epoch 31/200\n",
      "11/11 [==============================] - 0s 13ms/step - loss: -87075438548309.3281 - val_loss: -110862501150720.0000\n",
      "Epoch 32/200\n",
      "11/11 [==============================] - 0s 14ms/step - loss: -106846854228650.6719 - val_loss: -139271562330112.0000\n",
      "Epoch 33/200\n",
      "11/11 [==============================] - 0s 22ms/step - loss: -138290888616618.6719 - val_loss: -173091443441664.0000\n",
      "Epoch 34/200\n",
      "11/11 [==============================] - 0s 13ms/step - loss: -183343617059498.6562 - val_loss: -214119504412672.0000\n",
      "Epoch 35/200\n",
      "11/11 [==============================] - 0s 13ms/step - loss: -212623534587904.0000 - val_loss: -261377130233856.0000\n",
      "Epoch 36/200\n",
      "11/11 [==============================] - 0s 13ms/step - loss: -246718848652629.3438 - val_loss: -318156782436352.0000\n",
      "Epoch 37/200\n",
      "11/11 [==============================] - 0s 12ms/step - loss: -320626124390400.0000 - val_loss: -386148564205568.0000\n",
      "Epoch 38/200\n",
      "11/11 [==============================] - 0s 13ms/step - loss: -380597570633728.0000 - val_loss: -464145707171840.0000\n",
      "Epoch 39/200\n",
      "11/11 [==============================] - 0s 13ms/step - loss: -436723319657813.3125 - val_loss: -554747908063232.0000\n",
      "Epoch 40/200\n",
      "11/11 [==============================] - 0s 12ms/step - loss: -512185635001685.3125 - val_loss: -658716651159552.0000\n",
      "Epoch 41/200\n",
      "11/11 [==============================] - 0s 13ms/step - loss: -691896688399701.3750 - val_loss: -782076836052992.0000\n",
      "Epoch 42/200\n",
      "11/11 [==============================] - 0s 17ms/step - loss: -696786690419370.6250 - val_loss: -920069974523904.0000\n",
      "Epoch 43/200\n",
      "11/11 [==============================] - 0s 20ms/step - loss: -952032052991317.3750 - val_loss: -1084159535611904.0000\n",
      "Epoch 44/200\n",
      "11/11 [==============================] - 0s 13ms/step - loss: -1077664007148885.3750 - val_loss: -1265128519499776.0000\n",
      "Epoch 45/200\n",
      "11/11 [==============================] - 0s 13ms/step - loss: -1270958154667349.2500 - val_loss: -1473703137247232.0000\n",
      "Epoch 46/200\n",
      "11/11 [==============================] - 0s 21ms/step - loss: -1519012760518656.0000 - val_loss: -1711484337913856.0000\n",
      "Epoch 47/200\n",
      "11/11 [==============================] - 0s 15ms/step - loss: -1740382779299157.2500 - val_loss: -1974240102318080.0000\n",
      "Epoch 48/200\n",
      "11/11 [==============================] - 0s 14ms/step - loss: -1780056913346560.0000 - val_loss: -2267509461876736.0000\n",
      "Epoch 49/200\n",
      "11/11 [==============================] - 0s 19ms/step - loss: -2175787851579392.0000 - val_loss: -2603513880248320.0000\n",
      "Epoch 50/200\n",
      "11/11 [==============================] - 0s 19ms/step - loss: -2562307337661098.5000 - val_loss: -2977564729540608.0000\n",
      "Epoch 51/200\n",
      "11/11 [==============================] - 0s 19ms/step - loss: -3038342834115925.5000 - val_loss: -3390918824558592.0000\n",
      "Epoch 52/200\n",
      "11/11 [==============================] - 0s 18ms/step - loss: -3349495140057088.0000 - val_loss: -3843817757212672.0000\n",
      "Epoch 53/200\n",
      "11/11 [==============================] - 0s 19ms/step - loss: -3678619132668586.5000 - val_loss: -4347179871240192.0000\n",
      "Epoch 54/200\n",
      "11/11 [==============================] - 0s 18ms/step - loss: -3907488634109952.0000 - val_loss: -4907312594550784.0000\n",
      "Epoch 55/200\n",
      "11/11 [==============================] - 0s 18ms/step - loss: -4663912368701440.0000 - val_loss: -5521026377056256.0000\n",
      "Epoch 56/200\n",
      "11/11 [==============================] - 0s 19ms/step - loss: -5994903853771435.0000 - val_loss: -6221300393574400.0000\n",
      "Epoch 57/200\n",
      "11/11 [==============================] - 0s 19ms/step - loss: -5904493136838656.0000 - val_loss: -6962800727425024.0000\n",
      "Epoch 58/200\n",
      "11/11 [==============================] - 0s 18ms/step - loss: -7054880441805483.0000 - val_loss: -7777863650508800.0000\n",
      "Epoch 59/200\n",
      "11/11 [==============================] - 0s 19ms/step - loss: -7870276224854699.0000 - val_loss: -8681791057559552.0000\n",
      "Epoch 60/200\n",
      "11/11 [==============================] - 0s 24ms/step - loss: -8064954699612160.0000 - val_loss: -9650578913230848.0000\n",
      "Epoch 61/200\n",
      "11/11 [==============================] - 0s 19ms/step - loss: -9418333388537856.0000 - val_loss: -10722541547028480.0000\n",
      "Epoch 62/200\n",
      "11/11 [==============================] - 0s 24ms/step - loss: -9384286690650794.0000 - val_loss: -11869816432361472.0000\n",
      "Epoch 63/200\n",
      "11/11 [==============================] - 0s 17ms/step - loss: -11501201401053184.0000 - val_loss: -13160704286654464.0000\n",
      "Epoch 64/200\n",
      "11/11 [==============================] - 0s 17ms/step - loss: -13773216909972822.0000 - val_loss: -14565800690057216.0000\n"
     ]
    },
    {
     "name": "stdout",
     "output_type": "stream",
     "text": [
      "Epoch 65/200\n",
      "11/11 [==============================] - 0s 20ms/step - loss: -14965348075831296.0000 - val_loss: -16063289356189696.0000\n",
      "Epoch 66/200\n",
      "11/11 [==============================] - 0s 16ms/step - loss: -15178505065769642.0000 - val_loss: -17653590118105088.0000\n",
      "Epoch 67/200\n",
      "11/11 [==============================] - 0s 21ms/step - loss: -17393188129996800.0000 - val_loss: -19399244142084096.0000\n",
      "Epoch 68/200\n",
      "11/11 [==============================] - 0s 19ms/step - loss: -19770647859866284.0000 - val_loss: -21282275916251136.0000\n",
      "Epoch 69/200\n",
      "11/11 [==============================] - 0s 22ms/step - loss: -17784365161381888.0000 - val_loss: -23243841167425536.0000\n",
      "Epoch 70/200\n",
      "11/11 [==============================] - 0s 24ms/step - loss: -22725192370006700.0000 - val_loss: -25474028705677312.0000\n",
      "Epoch 71/200\n",
      "11/11 [==============================] - 0s 17ms/step - loss: -22987777185764692.0000 - val_loss: -27790018953084928.0000\n",
      "Epoch 72/200\n",
      "11/11 [==============================] - 0s 12ms/step - loss: -27554067587443372.0000 - val_loss: -30326736159768576.0000\n",
      "Epoch 73/200\n",
      "11/11 [==============================] - 0s 19ms/step - loss: -30625350382430892.0000 - val_loss: -33003765653045248.0000\n",
      "Epoch 74/200\n",
      "11/11 [==============================] - 0s 20ms/step - loss: -29857512056422400.0000 - val_loss: -35835102583848960.0000\n",
      "Epoch 75/200\n",
      "11/11 [==============================] - 0s 25ms/step - loss: -36039342595331416.0000 - val_loss: -38965339173683200.0000\n",
      "Epoch 76/200\n",
      "11/11 [==============================] - 0s 19ms/step - loss: -35389487199901012.0000 - val_loss: -42170076266233856.0000\n",
      "Epoch 77/200\n",
      "11/11 [==============================] - 0s 13ms/step - loss: -39975764589805568.0000 - val_loss: -45605732275453952.0000\n",
      "Epoch 78/200\n",
      "11/11 [==============================] - 0s 20ms/step - loss: -43061034303706456.0000 - val_loss: -49326458149011456.0000\n",
      "Epoch 79/200\n",
      "11/11 [==============================] - 0s 14ms/step - loss: -47851639394009088.0000 - val_loss: -53310005956313088.0000\n",
      "Epoch 80/200\n",
      "11/11 [==============================] - 0s 23ms/step - loss: -52875055691988992.0000 - val_loss: -57608482240593920.0000\n",
      "Epoch 81/200\n",
      "11/11 [==============================] - 0s 18ms/step - loss: -51485725397701976.0000 - val_loss: -62060778483613696.0000\n",
      "Epoch 82/200\n",
      "11/11 [==============================] - 0s 23ms/step - loss: -54649568317057704.0000 - val_loss: -66820538550452224.0000\n",
      "Epoch 83/200\n",
      "11/11 [==============================] - 0s 22ms/step - loss: -66392336037664088.0000 - val_loss: -71967726142226432.0000\n",
      "Epoch 84/200\n",
      "11/11 [==============================] - 0s 17ms/step - loss: -61750501814130008.0000 - val_loss: -77243311781314560.0000\n",
      "Epoch 85/200\n",
      "11/11 [==============================] - 0s 24ms/step - loss: -73861468849001808.0000 - val_loss: -82963228967043072.0000\n",
      "Epoch 86/200\n",
      "11/11 [==============================] - 0s 17ms/step - loss: -80293714950706512.0000 - val_loss: -88990571321884672.0000\n",
      "Epoch 87/200\n",
      "11/11 [==============================] - 0s 18ms/step - loss: -87118125926274384.0000 - val_loss: -95386731108368384.0000\n",
      "Epoch 88/200\n",
      "11/11 [==============================] - 0s 17ms/step - loss: -93488967596376064.0000 - val_loss: -102111266914435072.0000\n",
      "Epoch 89/200\n",
      "11/11 [==============================] - 0s 18ms/step - loss: -93730941758865408.0000 - val_loss: -109066055917240320.0000\n",
      "Epoch 90/200\n",
      "11/11 [==============================] - 0s 20ms/step - loss: -104441077650773328.0000 - val_loss: -116569922129100800.0000\n",
      "Epoch 91/200\n",
      "11/11 [==============================] - 0s 18ms/step - loss: -103584068466464080.0000 - val_loss: -124405230967193600.0000\n",
      "Epoch 92/200\n",
      "11/11 [==============================] - 0s 20ms/step - loss: -117778187339606704.0000 - val_loss: -132738085996724224.0000\n",
      "Epoch 93/200\n",
      "11/11 [==============================] - 0s 17ms/step - loss: -130030306685091840.0000 - val_loss: -141333638405947392.0000\n",
      "Epoch 94/200\n",
      "11/11 [==============================] - 0s 18ms/step - loss: -131974344890559152.0000 - val_loss: -150524395972984832.0000\n",
      "Epoch 95/200\n",
      "11/11 [==============================] - 0s 23ms/step - loss: -144793669786228064.0000 - val_loss: -160105437218209792.0000\n",
      "Epoch 96/200\n",
      "11/11 [==============================] - 0s 19ms/step - loss: -154234701540054368.0000 - val_loss: -170282190427389952.0000\n",
      "Epoch 97/200\n",
      "11/11 [==============================] - 0s 19ms/step - loss: -165226355358345888.0000 - val_loss: -181096248063819776.0000\n",
      "Epoch 98/200\n",
      "11/11 [==============================] - 0s 21ms/step - loss: -163548180639296160.0000 - val_loss: -192164722382995456.0000\n",
      "Epoch 99/200\n",
      "11/11 [==============================] - 0s 21ms/step - loss: -182424117376101024.0000 - val_loss: -204091606045818880.0000\n",
      "Epoch 100/200\n",
      "11/11 [==============================] - 0s 19ms/step - loss: -189138555714054816.0000 - val_loss: -216325751668998144.0000\n",
      "Epoch 101/200\n",
      "11/11 [==============================] - 0s 18ms/step - loss: -194388347211218944.0000 - val_loss: -228932666093731840.0000\n",
      "Epoch 102/200\n",
      "11/11 [==============================] - 0s 18ms/step - loss: -240130526302699520.0000 - val_loss: -242740230036127744.0000\n",
      "Epoch 103/200\n",
      "11/11 [==============================] - 0s 19ms/step - loss: -222553226614931456.0000 - val_loss: -256479366559563776.0000\n",
      "Epoch 104/200\n",
      "11/11 [==============================] - 0s 22ms/step - loss: -258349244996386816.0000 - val_loss: -271494074010173440.0000\n",
      "Epoch 105/200\n",
      "11/11 [==============================] - 0s 18ms/step - loss: -266233502145096352.0000 - val_loss: -287018490999603200.0000\n",
      "Epoch 106/200\n",
      "11/11 [==============================] - 0s 22ms/step - loss: -273684653360021504.0000 - val_loss: -302943903315656704.0000\n",
      "Epoch 107/200\n",
      "11/11 [==============================] - 0s 18ms/step - loss: -298731177485096256.0000 - val_loss: -319772512894320640.0000\n",
      "Epoch 108/200\n",
      "11/11 [==============================] - 0s 19ms/step - loss: -305688965806729920.0000 - val_loss: -337167474040504320.0000\n",
      "Epoch 109/200\n",
      "11/11 [==============================] - 0s 20ms/step - loss: -306232506802940608.0000 - val_loss: -355168369172807680.0000\n",
      "Epoch 110/200\n",
      "11/11 [==============================] - 0s 18ms/step - loss: -345971993788547072.0000 - val_loss: -374737752001871872.0000\n",
      "Epoch 111/200\n",
      "11/11 [==============================] - 0s 20ms/step - loss: -339825268522745856.0000 - val_loss: -394386677625257984.0000\n",
      "Epoch 112/200\n",
      "11/11 [==============================] - 0s 13ms/step - loss: -385684804732278080.0000 - val_loss: -415078867984711680.0000\n",
      "Epoch 113/200\n",
      "11/11 [==============================] - 0s 14ms/step - loss: -377787539559284736.0000 - val_loss: -436324662448750592.0000\n",
      "Epoch 114/200\n",
      "11/11 [==============================] - 0s 13ms/step - loss: -438970766030012416.0000 - val_loss: -459512606764302336.0000\n",
      "Epoch 115/200\n",
      "11/11 [==============================] - 0s 12ms/step - loss: -448703914973680960.0000 - val_loss: -482872212332740608.0000\n",
      "Epoch 116/200\n",
      "11/11 [==============================] - 0s 15ms/step - loss: -485763363841419968.0000 - val_loss: -507266939379253248.0000\n",
      "Epoch 117/200\n",
      "11/11 [==============================] - 0s 13ms/step - loss: -481885392056877056.0000 - val_loss: -532226574884274176.0000\n",
      "Epoch 118/200\n",
      "11/11 [==============================] - 0s 12ms/step - loss: -532607698828875072.0000 - val_loss: -558961990387630080.0000\n",
      "Epoch 119/200\n",
      "11/11 [==============================] - 0s 14ms/step - loss: -599048781313693056.0000 - val_loss: -587362616251252736.0000\n",
      "Epoch 120/200\n",
      "11/11 [==============================] - 0s 13ms/step - loss: -555093904186146816.0000 - val_loss: -615574297913589760.0000\n",
      "Epoch 121/200\n",
      "11/11 [==============================] - 0s 13ms/step - loss: -586059537490204032.0000 - val_loss: -644339927277895680.0000\n",
      "Epoch 122/200\n",
      "11/11 [==============================] - 0s 14ms/step - loss: -613688005543417216.0000 - val_loss: -674372743793213440.0000\n",
      "Epoch 123/200\n",
      "11/11 [==============================] - 0s 13ms/step - loss: -660299029317419008.0000 - val_loss: -706369631673122816.0000\n",
      "Epoch 124/200\n",
      "11/11 [==============================] - 0s 13ms/step - loss: -667707721917311616.0000 - val_loss: -739352231727333376.0000\n"
     ]
    },
    {
     "name": "stdout",
     "output_type": "stream",
     "text": [
      "Epoch 125/200\n",
      "11/11 [==============================] - 0s 11ms/step - loss: -693852986007704960.0000 - val_loss: -773846385391828992.0000\n",
      "Epoch 126/200\n",
      "11/11 [==============================] - 0s 13ms/step - loss: -750285740994199552.0000 - val_loss: -809069790143447040.0000\n",
      "Epoch 127/200\n",
      "11/11 [==============================] - 0s 14ms/step - loss: -780677771394285568.0000 - val_loss: -845793066194305024.0000\n",
      "Epoch 128/200\n",
      "11/11 [==============================] - 0s 11ms/step - loss: -810140262065678976.0000 - val_loss: -883797067133091840.0000\n",
      "Epoch 129/200\n",
      "11/11 [==============================] - 0s 20ms/step - loss: -759432993405840000.0000 - val_loss: -921576905138765824.0000\n",
      "Epoch 130/200\n",
      "11/11 [==============================] - 0s 21ms/step - loss: -851122072636620800.0000 - val_loss: -961417296654368768.0000\n",
      "Epoch 131/200\n",
      "11/11 [==============================] - 0s 14ms/step - loss: -967026827453966976.0000 - val_loss: -1004306359035887616.0000\n",
      "Epoch 132/200\n",
      "11/11 [==============================] - 0s 14ms/step - loss: -1002287426622368384.0000 - val_loss: -1047977998818476032.0000\n",
      "Epoch 133/200\n",
      "11/11 [==============================] - 0s 14ms/step - loss: -964224710617333760.0000 - val_loss: -1092474478480326656.0000\n",
      "Epoch 134/200\n",
      "11/11 [==============================] - 0s 14ms/step - loss: -1021463281641280896.0000 - val_loss: -1138442791894908928.0000\n",
      "Epoch 135/200\n",
      "11/11 [==============================] - 0s 15ms/step - loss: -1138172426566937216.0000 - val_loss: -1186617275390623744.0000\n",
      "Epoch 136/200\n",
      "11/11 [==============================] - 0s 16ms/step - loss: -1042373719332225024.0000 - val_loss: -1235264617605758976.0000\n",
      "Epoch 137/200\n",
      "11/11 [==============================] - 0s 15ms/step - loss: -1185435804333593856.0000 - val_loss: -1286896721573445632.0000\n",
      "Epoch 138/200\n",
      "11/11 [==============================] - 0s 14ms/step - loss: -1213056257977832704.0000 - val_loss: -1340056047192113152.0000\n",
      "Epoch 139/200\n",
      "11/11 [==============================] - 0s 15ms/step - loss: -1355881753274045696.0000 - val_loss: -1395764727958732800.0000\n",
      "Epoch 140/200\n",
      "11/11 [==============================] - 0s 16ms/step - loss: -1429936048974768896.0000 - val_loss: -1452500352585695232.0000\n",
      "Epoch 141/200\n",
      "11/11 [==============================] - 0s 17ms/step - loss: -1416387511646683136.0000 - val_loss: -1509054282916167680.0000\n",
      "Epoch 142/200\n",
      "11/11 [==============================] - 0s 16ms/step - loss: -1381399814700269568.0000 - val_loss: -1567146017697038336.0000\n",
      "Epoch 143/200\n",
      "11/11 [==============================] - 0s 15ms/step - loss: -1420597037726608128.0000 - val_loss: -1628604457082159104.0000\n",
      "Epoch 144/200\n",
      "11/11 [==============================] - 0s 14ms/step - loss: -1612044242873133824.0000 - val_loss: -1692215465356558336.0000\n",
      "Epoch 145/200\n",
      "11/11 [==============================] - 0s 13ms/step - loss: -1564771771229055744.0000 - val_loss: -1756815209462235136.0000\n",
      "Epoch 146/200\n",
      "11/11 [==============================] - 0s 15ms/step - loss: -1624112459593110784.0000 - val_loss: -1822646544029974528.0000\n",
      "Epoch 147/200\n",
      "11/11 [==============================] - 0s 14ms/step - loss: -1734506656837227776.0000 - val_loss: -1892838541713473536.0000\n",
      "Epoch 148/200\n",
      "11/11 [==============================] - 0s 16ms/step - loss: -1752120455157077248.0000 - val_loss: -1963775458524790784.0000\n",
      "Epoch 149/200\n",
      "11/11 [==============================] - 0s 16ms/step - loss: -1838922694828665600.0000 - val_loss: -2035886103998758912.0000\n",
      "Epoch 150/200\n",
      "11/11 [==============================] - 0s 17ms/step - loss: -1700119384865549056.0000 - val_loss: -2108261456897114112.0000\n",
      "Epoch 151/200\n",
      "11/11 [==============================] - 0s 16ms/step - loss: -1816331865499718912.0000 - val_loss: -2185321828841422848.0000\n",
      "Epoch 152/200\n",
      "11/11 [==============================] - 0s 16ms/step - loss: -2391115587692877312.0000 - val_loss: -2269251811997122560.0000\n",
      "Epoch 153/200\n",
      "11/11 [==============================] - 0s 15ms/step - loss: -2083636576869766400.0000 - val_loss: -2348744578539978752.0000\n",
      "Epoch 154/200\n",
      "11/11 [==============================] - 0s 16ms/step - loss: -2284182927930905856.0000 - val_loss: -2433720609570553856.0000\n",
      "Epoch 155/200\n",
      "11/11 [==============================] - 0s 15ms/step - loss: -2203303310721548288.0000 - val_loss: -2519333807589425152.0000\n",
      "Epoch 156/200\n",
      "11/11 [==============================] - 0s 14ms/step - loss: -2528267064687198208.0000 - val_loss: -2609393980386836480.0000\n",
      "Epoch 157/200\n",
      "11/11 [==============================] - 0s 14ms/step - loss: -2424428499365265408.0000 - val_loss: -2698499227335524352.0000\n",
      "Epoch 158/200\n",
      "11/11 [==============================] - 0s 12ms/step - loss: -2673855323466366976.0000 - val_loss: -2793453601266073600.0000\n",
      "Epoch 159/200\n",
      "11/11 [==============================] - 0s 13ms/step - loss: -2300386991998500864.0000 - val_loss: -2885984926446911488.0000\n",
      "Epoch 160/200\n",
      "11/11 [==============================] - 0s 16ms/step - loss: -2796915230374188544.0000 - val_loss: -2986210359121018880.0000\n",
      "Epoch 161/200\n",
      "11/11 [==============================] - 0s 15ms/step - loss: -2738112821671406080.0000 - val_loss: -3086237879702126592.0000\n",
      "Epoch 162/200\n",
      "11/11 [==============================] - 0s 14ms/step - loss: -3145835601815666688.0000 - val_loss: -3191622770689572864.0000\n",
      "Epoch 163/200\n",
      "11/11 [==============================] - 0s 18ms/step - loss: -2927586724136965632.0000 - val_loss: -3296910904653774848.0000\n",
      "Epoch 164/200\n",
      "11/11 [==============================] - 0s 16ms/step - loss: -3124697444958688768.0000 - val_loss: -3406089385634955264.0000\n",
      "Epoch 165/200\n",
      "11/11 [==============================] - 0s 14ms/step - loss: -3326089102849911296.0000 - val_loss: -3519070527580798976.0000\n",
      "Epoch 166/200\n",
      "11/11 [==============================] - 0s 16ms/step - loss: -3366050600990015488.0000 - val_loss: -3634065425072914432.0000\n",
      "Epoch 167/200\n",
      "11/11 [==============================] - 0s 14ms/step - loss: -3483307995627694592.0000 - val_loss: -3751445987919396864.0000\n",
      "Epoch 168/200\n",
      "11/11 [==============================] - 0s 12ms/step - loss: -3596854515615137792.0000 - val_loss: -3872786441893314560.0000\n",
      "Epoch 169/200\n",
      "11/11 [==============================] - 0s 13ms/step - loss: -3680139841359577088.0000 - val_loss: -3996342411797200896.0000\n",
      "Epoch 170/200\n",
      "11/11 [==============================] - 0s 17ms/step - loss: -3860115990585715200.0000 - val_loss: -4124138098537791488.0000\n",
      "Epoch 171/200\n",
      "11/11 [==============================] - 0s 15ms/step - loss: -3859719502111440896.0000 - val_loss: -4254341165987397632.0000\n",
      "Epoch 172/200\n",
      "11/11 [==============================] - 0s 15ms/step - loss: -3858131761507948032.0000 - val_loss: -4386795483494875136.0000\n",
      "Epoch 173/200\n",
      "11/11 [==============================] - 0s 14ms/step - loss: -3808106044028442112.0000 - val_loss: -4520396591630123008.0000\n",
      "Epoch 174/200\n",
      "11/11 [==============================] - 0s 16ms/step - loss: -3948581779896882688.0000 - val_loss: -4660115107584409600.0000\n",
      "Epoch 175/200\n",
      "11/11 [==============================] - 0s 17ms/step - loss: -4438410705377777152.0000 - val_loss: -4804255034671890432.0000\n",
      "Epoch 176/200\n",
      "11/11 [==============================] - 0s 16ms/step - loss: -4514131597281547776.0000 - val_loss: -4950837526840475648.0000\n",
      "Epoch 177/200\n",
      "11/11 [==============================] - 0s 14ms/step - loss: -4952970167081500672.0000 - val_loss: -5103462385159503872.0000\n",
      "Epoch 178/200\n",
      "11/11 [==============================] - 0s 14ms/step - loss: -5456012679707623424.0000 - val_loss: -5258317602815475712.0000\n",
      "Epoch 179/200\n",
      "11/11 [==============================] - 0s 17ms/step - loss: -4805035939899026432.0000 - val_loss: -5409088134774259712.0000\n",
      "Epoch 180/200\n",
      "11/11 [==============================] - 0s 16ms/step - loss: -5006895302548914176.0000 - val_loss: -5568790549441282048.0000\n",
      "Epoch 181/200\n",
      "11/11 [==============================] - 0s 15ms/step - loss: -5274479072260740096.0000 - val_loss: -5732308819212500992.0000\n",
      "Epoch 182/200\n",
      "11/11 [==============================] - 0s 16ms/step - loss: -5447654604630130688.0000 - val_loss: -5897202028274253824.0000\n",
      "Epoch 183/200\n",
      "11/11 [==============================] - 0s 17ms/step - loss: -5461728399278648320.0000 - val_loss: -6066537814068035584.0000\n",
      "Epoch 184/200\n",
      "11/11 [==============================] - 0s 14ms/step - loss: -5665222025617779712.0000 - val_loss: -6243031420558639104.0000\n",
      "Epoch 185/200\n",
      "11/11 [==============================] - 0s 15ms/step - loss: -5467168920251837440.0000 - val_loss: -6419597045060861952.0000\n",
      "Epoch 186/200\n",
      "11/11 [==============================] - 0s 14ms/step - loss: -5704465932075314176.0000 - val_loss: -6604100044003999744.0000\n",
      "Epoch 187/200\n",
      "11/11 [==============================] - 0s 13ms/step - loss: -6303919030157005824.0000 - val_loss: -6789636034121433088.0000\n",
      "Epoch 188/200\n",
      "11/11 [==============================] - 0s 14ms/step - loss: -6612445795388664832.0000 - val_loss: -6984637170086576128.0000\n",
      "Epoch 189/200\n",
      "11/11 [==============================] - 0s 13ms/step - loss: -6222966845180215296.0000 - val_loss: -7179736712342405120.0000\n",
      "Epoch 190/200\n",
      "11/11 [==============================] - 0s 16ms/step - loss: -7507107365980733440.0000 - val_loss: -7387439956387430400.0000\n",
      "Epoch 191/200\n",
      "11/11 [==============================] - 0s 15ms/step - loss: -6825463116569684992.0000 - val_loss: -7589639045223809024.0000\n",
      "Epoch 192/200\n",
      "11/11 [==============================] - 0s 16ms/step - loss: -6876387593178928128.0000 - val_loss: -7794885980292382720.0000\n",
      "Epoch 193/200\n",
      "11/11 [==============================] - 0s 14ms/step - loss: -7376151178879085568.0000 - val_loss: -8009508451011002368.0000\n",
      "Epoch 194/200\n",
      "11/11 [==============================] - 0s 16ms/step - loss: -7245139787131125760.0000 - val_loss: -8225180405578334208.0000\n",
      "Epoch 195/200\n",
      "11/11 [==============================] - 0s 16ms/step - loss: -8340855580077151232.0000 - val_loss: -8453403835132542976.0000\n",
      "Epoch 196/200\n",
      "11/11 [==============================] - 0s 16ms/step - loss: -8205802658463394816.0000 - val_loss: -8679186348873089024.0000\n",
      "Epoch 197/200\n",
      "11/11 [==============================] - 0s 16ms/step - loss: -8546881931450864640.0000 - val_loss: -8910351521787412480.0000\n",
      "Epoch 198/200\n",
      "11/11 [==============================] - 0s 13ms/step - loss: -7862988493566246912.0000 - val_loss: -9140612346387890176.0000\n",
      "Epoch 199/200\n",
      "11/11 [==============================] - 0s 17ms/step - loss: -8902251465438571520.0000 - val_loss: -9382967249138089984.0000\n",
      "Epoch 200/200\n",
      "11/11 [==============================] - 0s 14ms/step - loss: -9015545464255501312.0000 - val_loss: -9625023634481348608.0000\n",
      "Training time: 0:00:34.866754\n"
     ]
    },
    {
     "data": {
      "image/png": "[encoded data removed]",
      "text/plain": [
       "<Figure size 432x288 with 2 Axes>"
      ]
     },
     "metadata": {
      "needs_background": "light"
     },
     "output_type": "display_data"
    },
    {
     "ename": "FileNotFoundError",
     "evalue": "[Errno 2] No such file or directory: '../../Results/CNN_Vicon_Scores.png'",
     "output_type": "error",
     "traceback": [
      "\u001b[0;31m---------------------------------------------------------------------------\u001b[0m",
      "\u001b[0;31mFileNotFoundError\u001b[0m                         Traceback (most recent call last)",
      "\u001b[0;32m<ipython-input-73-8c06185091c6>\u001b[0m in \u001b[0;36m<module>\u001b[0;34m\u001b[0m\n\u001b[0;32m----> 1\u001b[0;31m \u001b[0mMean_abs_dev\u001b[0m\u001b[0;34m,\u001b[0m \u001b[0mRMS_dev\u001b[0m  \u001b[0;34m=\u001b[0m \u001b[0mNetwork\u001b[0m\u001b[0;34m(\u001b[0m\u001b[0;34m)\u001b[0m\u001b[0;34m\u001b[0m\u001b[0;34m\u001b[0m\u001b[0m\n\u001b[0m",
      "\u001b[0;32m<ipython-input-72-469cebe36f61>\u001b[0m in \u001b[0;36mNetwork\u001b[0;34m()\u001b[0m\n\u001b[1;32m     71\u001b[0m     \u001b[0mplt\u001b[0m\u001b[0;34m.\u001b[0m\u001b[0mlegend\u001b[0m\u001b[0;34m(\u001b[0m\u001b[0mloc\u001b[0m\u001b[0;34m=\u001b[0m\u001b[0;36m3\u001b[0m\u001b[0;34m,\u001b[0m \u001b[0mprop\u001b[0m\u001b[0;34m=\u001b[0m\u001b[0;34m{\u001b[0m\u001b[0;34m'size'\u001b[0m\u001b[0;34m:\u001b[0m\u001b[0;36m14\u001b[0m\u001b[0;34m}\u001b[0m\u001b[0;34m)\u001b[0m \u001b[0;31m# loc:position\u001b[0m\u001b[0;34m\u001b[0m\u001b[0;34m\u001b[0m\u001b[0m\n\u001b[1;32m     72\u001b[0m     \u001b[0mplt\u001b[0m\u001b[0;34m.\u001b[0m\u001b[0mtight_layout\u001b[0m\u001b[0;34m(\u001b[0m\u001b[0;34m)\u001b[0m\u001b[0;34m\u001b[0m\u001b[0;34m\u001b[0m\u001b[0m\n\u001b[0;32m---> 73\u001b[0;31m     \u001b[0mplt\u001b[0m\u001b[0;34m.\u001b[0m\u001b[0msavefig\u001b[0m\u001b[0;34m(\u001b[0m\u001b[0;34m'../../Results/CNN_Vicon_Scores.png'\u001b[0m\u001b[0;34m,\u001b[0m \u001b[0mdpi\u001b[0m\u001b[0;34m=\u001b[0m\u001b[0;36m300\u001b[0m\u001b[0;34m)\u001b[0m\u001b[0;34m\u001b[0m\u001b[0;34m\u001b[0m\u001b[0m\n\u001b[0m\u001b[1;32m     74\u001b[0m     \u001b[0mplt\u001b[0m\u001b[0;34m.\u001b[0m\u001b[0mshow\u001b[0m\u001b[0;34m(\u001b[0m\u001b[0;34m)\u001b[0m\u001b[0;34m\u001b[0m\u001b[0;34m\u001b[0m\u001b[0m\n\u001b[1;32m     75\u001b[0m \u001b[0;34m\u001b[0m\u001b[0m\n",
      "\u001b[0;32m~/.local/lib/python3.8/site-packages/matplotlib/pyplot.py\u001b[0m in \u001b[0;36msavefig\u001b[0;34m(*args, **kwargs)\u001b[0m\n\u001b[1;32m    935\u001b[0m \u001b[0;32mdef\u001b[0m \u001b[0msavefig\u001b[0m\u001b[0;34m(\u001b[0m\u001b[0;34m*\u001b[0m\u001b[0margs\u001b[0m\u001b[0;34m,\u001b[0m \u001b[0;34m**\u001b[0m\u001b[0mkwargs\u001b[0m\u001b[0;34m)\u001b[0m\u001b[0;34m:\u001b[0m\u001b[0;34m\u001b[0m\u001b[0;34m\u001b[0m\u001b[0m\n\u001b[1;32m    936\u001b[0m     \u001b[0mfig\u001b[0m \u001b[0;34m=\u001b[0m \u001b[0mgcf\u001b[0m\u001b[0;34m(\u001b[0m\u001b[0;34m)\u001b[0m\u001b[0;34m\u001b[0m\u001b[0;34m\u001b[0m\u001b[0m\n\u001b[0;32m--> 937\u001b[0;31m     \u001b[0mres\u001b[0m \u001b[0;34m=\u001b[0m \u001b[0mfig\u001b[0m\u001b[0;34m.\u001b[0m\u001b[0msavefig\u001b[0m\u001b[0;34m(\u001b[0m\u001b[0;34m*\u001b[0m\u001b[0margs\u001b[0m\u001b[0;34m,\u001b[0m \u001b[0;34m**\u001b[0m\u001b[0mkwargs\u001b[0m\u001b[0;34m)\u001b[0m\u001b[0;34m\u001b[0m\u001b[0;34m\u001b[0m\u001b[0m\n\u001b[0m\u001b[1;32m    938\u001b[0m     \u001b[0mfig\u001b[0m\u001b[0;34m.\u001b[0m\u001b[0mcanvas\u001b[0m\u001b[0;34m.\u001b[0m\u001b[0mdraw_idle\u001b[0m\u001b[0;34m(\u001b[0m\u001b[0;34m)\u001b[0m   \u001b[0;31m# need this if 'transparent=True' to reset colors\u001b[0m\u001b[0;34m\u001b[0m\u001b[0;34m\u001b[0m\u001b[0m\n\u001b[1;32m    939\u001b[0m     \u001b[0;32mreturn\u001b[0m \u001b[0mres\u001b[0m\u001b[0;34m\u001b[0m\u001b[0;34m\u001b[0m\u001b[0m\n",
      "\u001b[0;32m~/.local/lib/python3.8/site-packages/matplotlib/figure.py\u001b[0m in \u001b[0;36msavefig\u001b[0;34m(self, fname, transparent, **kwargs)\u001b[0m\n\u001b[1;32m   2957\u001b[0m                 \u001b[0mpatch\u001b[0m\u001b[0;34m.\u001b[0m\u001b[0mset_edgecolor\u001b[0m\u001b[0;34m(\u001b[0m\u001b[0;34m'none'\u001b[0m\u001b[0;34m)\u001b[0m\u001b[0;34m\u001b[0m\u001b[0;34m\u001b[0m\u001b[0m\n\u001b[1;32m   2958\u001b[0m \u001b[0;34m\u001b[0m\u001b[0m\n\u001b[0;32m-> 2959\u001b[0;31m         \u001b[0mself\u001b[0m\u001b[0;34m.\u001b[0m\u001b[0mcanvas\u001b[0m\u001b[0;34m.\u001b[0m\u001b[0mprint_figure\u001b[0m\u001b[0;34m(\u001b[0m\u001b[0mfname\u001b[0m\u001b[0;34m,\u001b[0m \u001b[0;34m**\u001b[0m\u001b[0mkwargs\u001b[0m\u001b[0;34m)\u001b[0m\u001b[0;34m\u001b[0m\u001b[0;34m\u001b[0m\u001b[0m\n\u001b[0m\u001b[1;32m   2960\u001b[0m \u001b[0;34m\u001b[0m\u001b[0m\n\u001b[1;32m   2961\u001b[0m         \u001b[0;32mif\u001b[0m \u001b[0mtransparent\u001b[0m\u001b[0;34m:\u001b[0m\u001b[0;34m\u001b[0m\u001b[0;34m\u001b[0m\u001b[0m\n",
      "\u001b[0;32m~/.local/lib/python3.8/site-packages/matplotlib/backend_bases.py\u001b[0m in \u001b[0;36mprint_figure\u001b[0;34m(self, filename, dpi, facecolor, edgecolor, orientation, format, bbox_inches, pad_inches, bbox_extra_artists, backend, **kwargs)\u001b[0m\n\u001b[1;32m   2253\u001b[0m                 \u001b[0;31m# force the figure dpi to 72), so we need to set it again here.\u001b[0m\u001b[0;34m\u001b[0m\u001b[0;34m\u001b[0m\u001b[0;34m\u001b[0m\u001b[0m\n\u001b[1;32m   2254\u001b[0m                 \u001b[0;32mwith\u001b[0m \u001b[0mcbook\u001b[0m\u001b[0;34m.\u001b[0m\u001b[0m_setattr_cm\u001b[0m\u001b[0;34m(\u001b[0m\u001b[0mself\u001b[0m\u001b[0;34m.\u001b[0m\u001b[0mfigure\u001b[0m\u001b[0;34m,\u001b[0m \u001b[0mdpi\u001b[0m\u001b[0;34m=\u001b[0m\u001b[0mdpi\u001b[0m\u001b[0;34m)\u001b[0m\u001b[0;34m:\u001b[0m\u001b[0;34m\u001b[0m\u001b[0;34m\u001b[0m\u001b[0m\n\u001b[0;32m-> 2255\u001b[0;31m                     result = print_method(\n\u001b[0m\u001b[1;32m   2256\u001b[0m                         \u001b[0mfilename\u001b[0m\u001b[0;34m,\u001b[0m\u001b[0;34m\u001b[0m\u001b[0;34m\u001b[0m\u001b[0m\n\u001b[1;32m   2257\u001b[0m                         \u001b[0mfacecolor\u001b[0m\u001b[0;34m=\u001b[0m\u001b[0mfacecolor\u001b[0m\u001b[0;34m,\u001b[0m\u001b[0;34m\u001b[0m\u001b[0;34m\u001b[0m\u001b[0m\n",
      "\u001b[0;32m~/.local/lib/python3.8/site-packages/matplotlib/backend_bases.py\u001b[0m in \u001b[0;36mwrapper\u001b[0;34m(*args, **kwargs)\u001b[0m\n\u001b[1;32m   1667\u001b[0m             \u001b[0mkwargs\u001b[0m\u001b[0;34m.\u001b[0m\u001b[0mpop\u001b[0m\u001b[0;34m(\u001b[0m\u001b[0marg\u001b[0m\u001b[0;34m)\u001b[0m\u001b[0;34m\u001b[0m\u001b[0;34m\u001b[0m\u001b[0m\n\u001b[1;32m   1668\u001b[0m \u001b[0;34m\u001b[0m\u001b[0m\n\u001b[0;32m-> 1669\u001b[0;31m         \u001b[0;32mreturn\u001b[0m \u001b[0mfunc\u001b[0m\u001b[0;34m(\u001b[0m\u001b[0;34m*\u001b[0m\u001b[0margs\u001b[0m\u001b[0;34m,\u001b[0m \u001b[0;34m**\u001b[0m\u001b[0mkwargs\u001b[0m\u001b[0;34m)\u001b[0m\u001b[0;34m\u001b[0m\u001b[0;34m\u001b[0m\u001b[0m\n\u001b[0m\u001b[1;32m   1670\u001b[0m \u001b[0;34m\u001b[0m\u001b[0m\n\u001b[1;32m   1671\u001b[0m     \u001b[0;32mreturn\u001b[0m \u001b[0mwrapper\u001b[0m\u001b[0;34m\u001b[0m\u001b[0;34m\u001b[0m\u001b[0m\n",
      "\u001b[0;32m~/.local/lib/python3.8/site-packages/matplotlib/backends/backend_agg.py\u001b[0m in \u001b[0;36mprint_png\u001b[0;34m(self, filename_or_obj, metadata, pil_kwargs, *args)\u001b[0m\n\u001b[1;32m    507\u001b[0m         \"\"\"\n\u001b[1;32m    508\u001b[0m         \u001b[0mFigureCanvasAgg\u001b[0m\u001b[0;34m.\u001b[0m\u001b[0mdraw\u001b[0m\u001b[0;34m(\u001b[0m\u001b[0mself\u001b[0m\u001b[0;34m)\u001b[0m\u001b[0;34m\u001b[0m\u001b[0;34m\u001b[0m\u001b[0m\n\u001b[0;32m--> 509\u001b[0;31m         mpl.image.imsave(\n\u001b[0m\u001b[1;32m    510\u001b[0m             \u001b[0mfilename_or_obj\u001b[0m\u001b[0;34m,\u001b[0m \u001b[0mself\u001b[0m\u001b[0;34m.\u001b[0m\u001b[0mbuffer_rgba\u001b[0m\u001b[0;34m(\u001b[0m\u001b[0;34m)\u001b[0m\u001b[0;34m,\u001b[0m \u001b[0mformat\u001b[0m\u001b[0;34m=\u001b[0m\u001b[0;34m\"png\"\u001b[0m\u001b[0;34m,\u001b[0m \u001b[0morigin\u001b[0m\u001b[0;34m=\u001b[0m\u001b[0;34m\"upper\"\u001b[0m\u001b[0;34m,\u001b[0m\u001b[0;34m\u001b[0m\u001b[0;34m\u001b[0m\u001b[0m\n\u001b[1;32m    511\u001b[0m             dpi=self.figure.dpi, metadata=metadata, pil_kwargs=pil_kwargs)\n",
      "\u001b[0;32m~/.local/lib/python3.8/site-packages/matplotlib/image.py\u001b[0m in \u001b[0;36mimsave\u001b[0;34m(fname, arr, vmin, vmax, cmap, format, origin, dpi, metadata, pil_kwargs)\u001b[0m\n\u001b[1;32m   1614\u001b[0m         \u001b[0mpil_kwargs\u001b[0m\u001b[0;34m.\u001b[0m\u001b[0msetdefault\u001b[0m\u001b[0;34m(\u001b[0m\u001b[0;34m\"format\"\u001b[0m\u001b[0;34m,\u001b[0m \u001b[0mformat\u001b[0m\u001b[0;34m)\u001b[0m\u001b[0;34m\u001b[0m\u001b[0;34m\u001b[0m\u001b[0m\n\u001b[1;32m   1615\u001b[0m         \u001b[0mpil_kwargs\u001b[0m\u001b[0;34m.\u001b[0m\u001b[0msetdefault\u001b[0m\u001b[0;34m(\u001b[0m\u001b[0;34m\"dpi\"\u001b[0m\u001b[0;34m,\u001b[0m \u001b[0;34m(\u001b[0m\u001b[0mdpi\u001b[0m\u001b[0;34m,\u001b[0m \u001b[0mdpi\u001b[0m\u001b[0;34m)\u001b[0m\u001b[0;34m)\u001b[0m\u001b[0;34m\u001b[0m\u001b[0;34m\u001b[0m\u001b[0m\n\u001b[0;32m-> 1616\u001b[0;31m         \u001b[0mimage\u001b[0m\u001b[0;34m.\u001b[0m\u001b[0msave\u001b[0m\u001b[0;34m(\u001b[0m\u001b[0mfname\u001b[0m\u001b[0;34m,\u001b[0m \u001b[0;34m**\u001b[0m\u001b[0mpil_kwargs\u001b[0m\u001b[0;34m)\u001b[0m\u001b[0;34m\u001b[0m\u001b[0;34m\u001b[0m\u001b[0m\n\u001b[0m\u001b[1;32m   1617\u001b[0m \u001b[0;34m\u001b[0m\u001b[0m\n\u001b[1;32m   1618\u001b[0m \u001b[0;34m\u001b[0m\u001b[0m\n",
      "\u001b[0;32m/usr/lib/python3/dist-packages/PIL/Image.py\u001b[0m in \u001b[0;36msave\u001b[0;34m(self, fp, format, **params)\u001b[0m\n\u001b[1;32m   2097\u001b[0m                 \u001b[0mfp\u001b[0m \u001b[0;34m=\u001b[0m \u001b[0mbuiltins\u001b[0m\u001b[0;34m.\u001b[0m\u001b[0mopen\u001b[0m\u001b[0;34m(\u001b[0m\u001b[0mfilename\u001b[0m\u001b[0;34m,\u001b[0m \u001b[0;34m\"r+b\"\u001b[0m\u001b[0;34m)\u001b[0m\u001b[0;34m\u001b[0m\u001b[0;34m\u001b[0m\u001b[0m\n\u001b[1;32m   2098\u001b[0m             \u001b[0;32melse\u001b[0m\u001b[0;34m:\u001b[0m\u001b[0;34m\u001b[0m\u001b[0;34m\u001b[0m\u001b[0m\n\u001b[0;32m-> 2099\u001b[0;31m                 \u001b[0mfp\u001b[0m \u001b[0;34m=\u001b[0m \u001b[0mbuiltins\u001b[0m\u001b[0;34m.\u001b[0m\u001b[0mopen\u001b[0m\u001b[0;34m(\u001b[0m\u001b[0mfilename\u001b[0m\u001b[0;34m,\u001b[0m \u001b[0;34m\"w+b\"\u001b[0m\u001b[0;34m)\u001b[0m\u001b[0;34m\u001b[0m\u001b[0;34m\u001b[0m\u001b[0m\n\u001b[0m\u001b[1;32m   2100\u001b[0m \u001b[0;34m\u001b[0m\u001b[0m\n\u001b[1;32m   2101\u001b[0m         \u001b[0;32mtry\u001b[0m\u001b[0;34m:\u001b[0m\u001b[0;34m\u001b[0m\u001b[0;34m\u001b[0m\u001b[0m\n",
      "\u001b[0;31mFileNotFoundError\u001b[0m: [Errno 2] No such file or directory: '../../Results/CNN_Vicon_Scores.png'"
     ]
    },
    {
     "data": {
      "image/png": "[encoded data removed]",
      "text/plain": [
       "<Figure size 576x576 with 2 Axes>"
      ]
     },
     "metadata": {
      "needs_background": "light"
     },
     "output_type": "display_data"
    }
   ],
   "source": [
    "Mean_abs_dev, RMS_dev  = Network()"
   ]
  },
  {
   "cell_type": "code",
   "execution_count": 65,
   "metadata": {},
   "outputs": [],
   "source": [
    "timesteps = 700 # Number of timesteps\n",
    "nr = 78   # Number of repetitions\n",
    "n_dim = 2  # Dimension of data sequences\n",
    "dropout_rate = 0.2   # Droput rate"
   ]
  },
  {
   "cell_type": "code",
   "execution_count": null,
   "metadata": {},
   "outputs": [],
   "source": []
  },
  {
   "cell_type": "code",
   "execution_count": 108,
   "metadata": {
    "scrolled": true
   },
   "outputs": [
    {
     "name": "stdout",
     "output_type": "stream",
     "text": [
      "(None, 64)\n",
      "Model: \"model_18\"\n",
      "__________________________________________________________________________________________________\n",
      "Layer (type)                    Output Shape         Param #     Connected to                     \n",
      "==================================================================================================\n",
      "ip1 (InputLayer)                [(None, None)]       0                                            \n",
      "__________________________________________________________________________________________________\n",
      "ip2 (InputLayer)                [(None, None)]       0                                            \n",
      "__________________________________________________________________________________________________\n",
      "embedding_42 (Embedding)        (None, None, 5)      12505       ip1[0][0]                        \n",
      "__________________________________________________________________________________________________\n",
      "embedding_43 (Embedding)        (None, None, 5)      12505       ip2[0][0]                        \n",
      "__________________________________________________________________________________________________\n",
      "lstm_42 (LSTM)                  (None, 32)           4864        embedding_42[0][0]               \n",
      "__________________________________________________________________________________________________\n",
      "lstm_43 (LSTM)                  (None, 32)           4864        embedding_43[0][0]               \n",
      "__________________________________________________________________________________________________\n",
      "concatenate_17 (Concatenate)    (None, 64)           0           lstm_42[0][0]                    \n",
      "                                                                 lstm_43[0][0]                    \n",
      "__________________________________________________________________________________________________\n",
      "dense_24 (Dense)                (None, 1)            65          concatenate_17[0][0]             \n",
      "==================================================================================================\n",
      "Total params: 34,803\n",
      "Trainable params: 34,803\n",
      "Non-trainable params: 0\n",
      "__________________________________________________________________________________________________\n"
     ]
    }
   ],
   "source": [
    "input1 = Input(shape = (None,), name = 'ip1')\n",
    "embed1 = layers.Embedding(2501, 5, mask_zero = True)(input1)\n",
    "encoded_input1 = layers.LSTM(32)(embed1)\n",
    "\n",
    "input2 = Input(shape = (None,), name = 'ip2')\n",
    "embed2 = layers.Embedding(2501, 5, mask_zero = True)(input2)\n",
    "encoded_input2 = layers.LSTM(32)(embed2)\n",
    "# concatenated = layers.Average()([encoded_input1, encoded_input2])\n",
    "\n",
    "concatenated = layers.concatenate([encoded_input1, encoded_input2], axis = 1)\n",
    "print(concatenated.shape)\n",
    "output = layers.Dense(1,activation='softmax')(concatenated)\n",
    "\n",
    "\n",
    "model = Model([input1, input2], output);\n",
    "model.compile(optimizer='adam',\n",
    "loss='mse',\n",
    "metrics=['acc'])\n",
    "model.summary()"
   ]
  },
  {
   "cell_type": "code",
   "execution_count": 61,
   "metadata": {},
   "outputs": [
    {
     "name": "stdout",
     "output_type": "stream",
     "text": [
      "[ 9.          6.         14.66666667 15.          7.          7.\n",
      " 11.66666667 15.         11.         15.          9.         14.33333333\n",
      " 15.         13.         15.          7.         14.33333333 15.\n",
      " 15.         13.         10.33333333  3.         14.33333333 15.\n",
      " 14.66666667 15.          7.78382608 15.          6.         10.\n",
      " 15.         14.         15.          8.         15.         14.\n",
      " 15.         13.          9.39439192 15.         15.         12.83313884\n",
      " 15.         12.          0.         14.66666667 15.          8.\n",
      " 14.33333333  5.66666667 15.         12.         10.         15.        ]\n"
     ]
    }
   ],
   "source": [
    "# x_val /= np.max(np.abs(x_val))\n",
    "# po_val /= np.max(np.abs(po_val))\n",
    "x_train, x_test, y_train, y_test = train_test_split(x_val,po_val, test_size=0.3)\n",
    "print(y_train)"
   ]
  },
  {
   "cell_type": "code",
   "execution_count": 69,
   "metadata": {},
   "outputs": [
    {
     "ename": "ValueError",
     "evalue": "The truth value of an array with more than one element is ambiguous. Use a.any() or a.all()",
     "output_type": "error",
     "traceback": [
      "\u001b[0;31m---------------------------------------------------------------------------\u001b[0m",
      "\u001b[0;31mValueError\u001b[0m                                Traceback (most recent call last)",
      "\u001b[0;32m<ipython-input-69-aac2c72d7632>\u001b[0m in \u001b[0;36m<module>\u001b[0;34m\u001b[0m\n\u001b[0;32m----> 1\u001b[0;31m \u001b[0mx_train\u001b[0m \u001b[0;34m=\u001b[0m \u001b[0mx_train\u001b[0m\u001b[0;34m/\u001b[0m\u001b[0mmax\u001b[0m\u001b[0;34m(\u001b[0m\u001b[0mx_train\u001b[0m\u001b[0;34m)\u001b[0m\u001b[0;34m\u001b[0m\u001b[0;34m\u001b[0m\u001b[0m\n\u001b[0m\u001b[1;32m      2\u001b[0m \u001b[0mprint\u001b[0m\u001b[0;34m(\u001b[0m\u001b[0mx_train\u001b[0m\u001b[0;34m)\u001b[0m\u001b[0;34m\u001b[0m\u001b[0;34m\u001b[0m\u001b[0m\n",
      "\u001b[0;31mValueError\u001b[0m: The truth value of an array with more than one element is ambiguous. Use a.any() or a.all()"
     ]
    }
   ],
   "source": []
  },
  {
   "cell_type": "code",
   "execution_count": 63,
   "metadata": {},
   "outputs": [
    {
     "data": {
      "text/plain": [
       "[<matplotlib.lines.Line2D at 0x7fcd0d464fd0>]"
      ]
     },
     "execution_count": 63,
     "metadata": {},
     "output_type": "execute_result"
    },
    {
     "data": {
      "image/png": "[encoded data removed]",
      "text/plain": [
       "<Figure size 432x288 with 1 Axes>"
      ]
     },
     "metadata": {
      "needs_background": "light"
     },
     "output_type": "display_data"
    }
   ],
   "source": [
    "plt.plot(x_val[0,:,:1])"
   ]
  },
  {
   "cell_type": "code",
   "execution_count": 64,
   "metadata": {},
   "outputs": [
    {
     "data": {
      "text/plain": [
       "[<matplotlib.lines.Line2D at 0x7fcd0d4ad370>]"
      ]
     },
     "execution_count": 64,
     "metadata": {},
     "output_type": "execute_result"
    },
    {
     "data": {
      "image/png": "[encoded data removed]",
      "text/plain": [
       "<Figure size 432x288 with 1 Axes>"
      ]
     },
     "metadata": {
      "needs_background": "light"
     },
     "output_type": "display_data"
    }
   ],
   "source": [
    "plt.plot(x_val[0,:,1:])"
   ]
  },
  {
   "cell_type": "code",
   "execution_count": 113,
   "metadata": {},
   "outputs": [
    {
     "name": "stdout",
     "output_type": "stream",
     "text": [
      "Epoch 1/100\n"
     ]
    },
    {
     "ename": "InvalidArgumentError",
     "evalue": " indices[15,1971] = -1 is not in [0, 2501)\n\t [[node model_18/embedding_43/embedding_lookup (defined at <ipython-input-113-2fa617c1a1f4>:1) ]] [Op:__inference_train_function_231469]\n\nErrors may have originated from an input operation.\nInput Source operations connected to node model_18/embedding_43/embedding_lookup:\n model_18/embedding_43/embedding_lookup/226416 (defined at /usr/lib/python3.8/contextlib.py:113)\n\nFunction call stack:\ntrain_function\n",
     "output_type": "error",
     "traceback": [
      "\u001b[0;31m---------------------------------------------------------------------------\u001b[0m",
      "\u001b[0;31mInvalidArgumentError\u001b[0m                      Traceback (most recent call last)",
      "\u001b[0;32m<ipython-input-113-2fa617c1a1f4>\u001b[0m in \u001b[0;36m<module>\u001b[0;34m\u001b[0m\n\u001b[0;32m----> 1\u001b[0;31m \u001b[0mhistory\u001b[0m \u001b[0;34m=\u001b[0m \u001b[0mmodel\u001b[0m\u001b[0;34m.\u001b[0m\u001b[0mfit\u001b[0m\u001b[0;34m(\u001b[0m\u001b[0;34m[\u001b[0m\u001b[0mx_train\u001b[0m\u001b[0;34m[\u001b[0m\u001b[0;34m:\u001b[0m\u001b[0;34m,\u001b[0m\u001b[0;34m:\u001b[0m\u001b[0;34m,\u001b[0m\u001b[0;36m0\u001b[0m\u001b[0;34m]\u001b[0m\u001b[0;34m,\u001b[0m \u001b[0mx_train\u001b[0m\u001b[0;34m[\u001b[0m\u001b[0;34m:\u001b[0m\u001b[0;34m,\u001b[0m\u001b[0;34m:\u001b[0m\u001b[0;34m,\u001b[0m\u001b[0;36m1\u001b[0m\u001b[0;34m]\u001b[0m\u001b[0;34m]\u001b[0m\u001b[0;34m,\u001b[0m \u001b[0my_train\u001b[0m\u001b[0;34m,\u001b[0m\u001b[0mepochs\u001b[0m\u001b[0;34m=\u001b[0m\u001b[0;36m100\u001b[0m\u001b[0;34m,\u001b[0m \u001b[0mvalidation_split\u001b[0m\u001b[0;34m=\u001b[0m\u001b[0;36m0.2\u001b[0m\u001b[0;34m)\u001b[0m\u001b[0;34m\u001b[0m\u001b[0;34m\u001b[0m\u001b[0m\n\u001b[0m",
      "\u001b[0;32m~/.local/lib/python3.8/site-packages/tensorflow/python/keras/engine/training.py\u001b[0m in \u001b[0;36mfit\u001b[0;34m(self, x, y, batch_size, epochs, verbose, callbacks, validation_split, validation_data, shuffle, class_weight, sample_weight, initial_epoch, steps_per_epoch, validation_steps, validation_batch_size, validation_freq, max_queue_size, workers, use_multiprocessing)\u001b[0m\n\u001b[1;32m   1098\u001b[0m                 _r=1):\n\u001b[1;32m   1099\u001b[0m               \u001b[0mcallbacks\u001b[0m\u001b[0;34m.\u001b[0m\u001b[0mon_train_batch_begin\u001b[0m\u001b[0;34m(\u001b[0m\u001b[0mstep\u001b[0m\u001b[0;34m)\u001b[0m\u001b[0;34m\u001b[0m\u001b[0;34m\u001b[0m\u001b[0m\n\u001b[0;32m-> 1100\u001b[0;31m               \u001b[0mtmp_logs\u001b[0m \u001b[0;34m=\u001b[0m \u001b[0mself\u001b[0m\u001b[0;34m.\u001b[0m\u001b[0mtrain_function\u001b[0m\u001b[0;34m(\u001b[0m\u001b[0miterator\u001b[0m\u001b[0;34m)\u001b[0m\u001b[0;34m\u001b[0m\u001b[0;34m\u001b[0m\u001b[0m\n\u001b[0m\u001b[1;32m   1101\u001b[0m               \u001b[0;32mif\u001b[0m \u001b[0mdata_handler\u001b[0m\u001b[0;34m.\u001b[0m\u001b[0mshould_sync\u001b[0m\u001b[0;34m:\u001b[0m\u001b[0;34m\u001b[0m\u001b[0;34m\u001b[0m\u001b[0m\n\u001b[1;32m   1102\u001b[0m                 \u001b[0mcontext\u001b[0m\u001b[0;34m.\u001b[0m\u001b[0masync_wait\u001b[0m\u001b[0;34m(\u001b[0m\u001b[0;34m)\u001b[0m\u001b[0;34m\u001b[0m\u001b[0;34m\u001b[0m\u001b[0m\n",
      "\u001b[0;32m~/.local/lib/python3.8/site-packages/tensorflow/python/eager/def_function.py\u001b[0m in \u001b[0;36m__call__\u001b[0;34m(self, *args, **kwds)\u001b[0m\n\u001b[1;32m    826\u001b[0m     \u001b[0mtracing_count\u001b[0m \u001b[0;34m=\u001b[0m \u001b[0mself\u001b[0m\u001b[0;34m.\u001b[0m\u001b[0mexperimental_get_tracing_count\u001b[0m\u001b[0;34m(\u001b[0m\u001b[0;34m)\u001b[0m\u001b[0;34m\u001b[0m\u001b[0;34m\u001b[0m\u001b[0m\n\u001b[1;32m    827\u001b[0m     \u001b[0;32mwith\u001b[0m \u001b[0mtrace\u001b[0m\u001b[0;34m.\u001b[0m\u001b[0mTrace\u001b[0m\u001b[0;34m(\u001b[0m\u001b[0mself\u001b[0m\u001b[0;34m.\u001b[0m\u001b[0m_name\u001b[0m\u001b[0;34m)\u001b[0m \u001b[0;32mas\u001b[0m \u001b[0mtm\u001b[0m\u001b[0;34m:\u001b[0m\u001b[0;34m\u001b[0m\u001b[0;34m\u001b[0m\u001b[0m\n\u001b[0;32m--> 828\u001b[0;31m       \u001b[0mresult\u001b[0m \u001b[0;34m=\u001b[0m \u001b[0mself\u001b[0m\u001b[0;34m.\u001b[0m\u001b[0m_call\u001b[0m\u001b[0;34m(\u001b[0m\u001b[0;34m*\u001b[0m\u001b[0margs\u001b[0m\u001b[0;34m,\u001b[0m \u001b[0;34m**\u001b[0m\u001b[0mkwds\u001b[0m\u001b[0;34m)\u001b[0m\u001b[0;34m\u001b[0m\u001b[0;34m\u001b[0m\u001b[0m\n\u001b[0m\u001b[1;32m    829\u001b[0m       \u001b[0mcompiler\u001b[0m \u001b[0;34m=\u001b[0m \u001b[0;34m\"xla\"\u001b[0m \u001b[0;32mif\u001b[0m \u001b[0mself\u001b[0m\u001b[0;34m.\u001b[0m\u001b[0m_experimental_compile\u001b[0m \u001b[0;32melse\u001b[0m \u001b[0;34m\"nonXla\"\u001b[0m\u001b[0;34m\u001b[0m\u001b[0;34m\u001b[0m\u001b[0m\n\u001b[1;32m    830\u001b[0m       \u001b[0mnew_tracing_count\u001b[0m \u001b[0;34m=\u001b[0m \u001b[0mself\u001b[0m\u001b[0;34m.\u001b[0m\u001b[0mexperimental_get_tracing_count\u001b[0m\u001b[0;34m(\u001b[0m\u001b[0;34m)\u001b[0m\u001b[0;34m\u001b[0m\u001b[0;34m\u001b[0m\u001b[0m\n",
      "\u001b[0;32m~/.local/lib/python3.8/site-packages/tensorflow/python/eager/def_function.py\u001b[0m in \u001b[0;36m_call\u001b[0;34m(self, *args, **kwds)\u001b[0m\n\u001b[1;32m    886\u001b[0m         \u001b[0;31m# Lifting succeeded, so variables are initialized and we can run the\u001b[0m\u001b[0;34m\u001b[0m\u001b[0;34m\u001b[0m\u001b[0;34m\u001b[0m\u001b[0m\n\u001b[1;32m    887\u001b[0m         \u001b[0;31m# stateless function.\u001b[0m\u001b[0;34m\u001b[0m\u001b[0;34m\u001b[0m\u001b[0;34m\u001b[0m\u001b[0m\n\u001b[0;32m--> 888\u001b[0;31m         \u001b[0;32mreturn\u001b[0m \u001b[0mself\u001b[0m\u001b[0;34m.\u001b[0m\u001b[0m_stateless_fn\u001b[0m\u001b[0;34m(\u001b[0m\u001b[0;34m*\u001b[0m\u001b[0margs\u001b[0m\u001b[0;34m,\u001b[0m \u001b[0;34m**\u001b[0m\u001b[0mkwds\u001b[0m\u001b[0;34m)\u001b[0m\u001b[0;34m\u001b[0m\u001b[0;34m\u001b[0m\u001b[0m\n\u001b[0m\u001b[1;32m    889\u001b[0m     \u001b[0;32melse\u001b[0m\u001b[0;34m:\u001b[0m\u001b[0;34m\u001b[0m\u001b[0;34m\u001b[0m\u001b[0m\n\u001b[1;32m    890\u001b[0m       \u001b[0m_\u001b[0m\u001b[0;34m,\u001b[0m \u001b[0m_\u001b[0m\u001b[0;34m,\u001b[0m \u001b[0m_\u001b[0m\u001b[0;34m,\u001b[0m \u001b[0mfiltered_flat_args\u001b[0m \u001b[0;34m=\u001b[0m\u001b[0;31m \u001b[0m\u001b[0;31m\\\u001b[0m\u001b[0;34m\u001b[0m\u001b[0;34m\u001b[0m\u001b[0m\n",
      "\u001b[0;32m~/.local/lib/python3.8/site-packages/tensorflow/python/eager/function.py\u001b[0m in \u001b[0;36m__call__\u001b[0;34m(self, *args, **kwargs)\u001b[0m\n\u001b[1;32m   2940\u001b[0m       (graph_function,\n\u001b[1;32m   2941\u001b[0m        filtered_flat_args) = self._maybe_define_function(args, kwargs)\n\u001b[0;32m-> 2942\u001b[0;31m     return graph_function._call_flat(\n\u001b[0m\u001b[1;32m   2943\u001b[0m         filtered_flat_args, captured_inputs=graph_function.captured_inputs)  # pylint: disable=protected-access\n\u001b[1;32m   2944\u001b[0m \u001b[0;34m\u001b[0m\u001b[0m\n",
      "\u001b[0;32m~/.local/lib/python3.8/site-packages/tensorflow/python/eager/function.py\u001b[0m in \u001b[0;36m_call_flat\u001b[0;34m(self, args, captured_inputs, cancellation_manager)\u001b[0m\n\u001b[1;32m   1916\u001b[0m         and executing_eagerly):\n\u001b[1;32m   1917\u001b[0m       \u001b[0;31m# No tape is watching; skip to running the function.\u001b[0m\u001b[0;34m\u001b[0m\u001b[0;34m\u001b[0m\u001b[0;34m\u001b[0m\u001b[0m\n\u001b[0;32m-> 1918\u001b[0;31m       return self._build_call_outputs(self._inference_function.call(\n\u001b[0m\u001b[1;32m   1919\u001b[0m           ctx, args, cancellation_manager=cancellation_manager))\n\u001b[1;32m   1920\u001b[0m     forward_backward = self._select_forward_and_backward_functions(\n",
      "\u001b[0;32m~/.local/lib/python3.8/site-packages/tensorflow/python/eager/function.py\u001b[0m in \u001b[0;36mcall\u001b[0;34m(self, ctx, args, cancellation_manager)\u001b[0m\n\u001b[1;32m    553\u001b[0m       \u001b[0;32mwith\u001b[0m \u001b[0m_InterpolateFunctionError\u001b[0m\u001b[0;34m(\u001b[0m\u001b[0mself\u001b[0m\u001b[0;34m)\u001b[0m\u001b[0;34m:\u001b[0m\u001b[0;34m\u001b[0m\u001b[0;34m\u001b[0m\u001b[0m\n\u001b[1;32m    554\u001b[0m         \u001b[0;32mif\u001b[0m \u001b[0mcancellation_manager\u001b[0m \u001b[0;32mis\u001b[0m \u001b[0;32mNone\u001b[0m\u001b[0;34m:\u001b[0m\u001b[0;34m\u001b[0m\u001b[0;34m\u001b[0m\u001b[0m\n\u001b[0;32m--> 555\u001b[0;31m           outputs = execute.execute(\n\u001b[0m\u001b[1;32m    556\u001b[0m               \u001b[0mstr\u001b[0m\u001b[0;34m(\u001b[0m\u001b[0mself\u001b[0m\u001b[0;34m.\u001b[0m\u001b[0msignature\u001b[0m\u001b[0;34m.\u001b[0m\u001b[0mname\u001b[0m\u001b[0;34m)\u001b[0m\u001b[0;34m,\u001b[0m\u001b[0;34m\u001b[0m\u001b[0;34m\u001b[0m\u001b[0m\n\u001b[1;32m    557\u001b[0m               \u001b[0mnum_outputs\u001b[0m\u001b[0;34m=\u001b[0m\u001b[0mself\u001b[0m\u001b[0;34m.\u001b[0m\u001b[0m_num_outputs\u001b[0m\u001b[0;34m,\u001b[0m\u001b[0;34m\u001b[0m\u001b[0;34m\u001b[0m\u001b[0m\n",
      "\u001b[0;32m~/.local/lib/python3.8/site-packages/tensorflow/python/eager/execute.py\u001b[0m in \u001b[0;36mquick_execute\u001b[0;34m(op_name, num_outputs, inputs, attrs, ctx, name)\u001b[0m\n\u001b[1;32m     57\u001b[0m   \u001b[0;32mtry\u001b[0m\u001b[0;34m:\u001b[0m\u001b[0;34m\u001b[0m\u001b[0;34m\u001b[0m\u001b[0m\n\u001b[1;32m     58\u001b[0m     \u001b[0mctx\u001b[0m\u001b[0;34m.\u001b[0m\u001b[0mensure_initialized\u001b[0m\u001b[0;34m(\u001b[0m\u001b[0;34m)\u001b[0m\u001b[0;34m\u001b[0m\u001b[0;34m\u001b[0m\u001b[0m\n\u001b[0;32m---> 59\u001b[0;31m     tensors = pywrap_tfe.TFE_Py_Execute(ctx._handle, device_name, op_name,\n\u001b[0m\u001b[1;32m     60\u001b[0m                                         inputs, attrs, num_outputs)\n\u001b[1;32m     61\u001b[0m   \u001b[0;32mexcept\u001b[0m \u001b[0mcore\u001b[0m\u001b[0;34m.\u001b[0m\u001b[0m_NotOkStatusException\u001b[0m \u001b[0;32mas\u001b[0m \u001b[0me\u001b[0m\u001b[0;34m:\u001b[0m\u001b[0;34m\u001b[0m\u001b[0;34m\u001b[0m\u001b[0m\n",
      "\u001b[0;31mInvalidArgumentError\u001b[0m:  indices[15,1971] = -1 is not in [0, 2501)\n\t [[node model_18/embedding_43/embedding_lookup (defined at <ipython-input-113-2fa617c1a1f4>:1) ]] [Op:__inference_train_function_231469]\n\nErrors may have originated from an input operation.\nInput Source operations connected to node model_18/embedding_43/embedding_lookup:\n model_18/embedding_43/embedding_lookup/226416 (defined at /usr/lib/python3.8/contextlib.py:113)\n\nFunction call stack:\ntrain_function\n"
     ]
    }
   ],
   "source": [
    "history = model.fit([x_train[:,:,0], x_train[:,:,1]], y_train,epochs=100, validation_split=0.2)"
   ]
  },
  {
   "cell_type": "code",
   "execution_count": 102,
   "metadata": {},
   "outputs": [
    {
     "data": {
      "text/plain": [
       "[<matplotlib.lines.Line2D at 0x7f1f3aff92e0>]"
      ]
     },
     "execution_count": 102,
     "metadata": {},
     "output_type": "execute_result"
    },
    {
     "data": {
      "image/png": "[encoded data removed]",
      "text/plain": [
       "<Figure size 432x288 with 1 Axes>"
      ]
     },
     "metadata": {
      "needs_background": "light"
     },
     "output_type": "display_data"
    }
   ],
   "source": [
    "plt.plot(history.history['loss'])"
   ]
  },
  {
   "cell_type": "code",
   "execution_count": 103,
   "metadata": {},
   "outputs": [
    {
     "data": {
      "text/plain": [
       "[<matplotlib.lines.Line2D at 0x7f1f3af02070>]"
      ]
     },
     "execution_count": 103,
     "metadata": {},
     "output_type": "execute_result"
    },
    {
     "data": {
      "image/png": "[encoded data removed]",
      "text/plain": [
       "<Figure size 432x288 with 1 Axes>"
      ]
     },
     "metadata": {
      "needs_background": "light"
     },
     "output_type": "display_data"
    }
   ],
   "source": [
    "plt.plot(history.history['acc'])"
   ]
  },
  {
   "cell_type": "code",
   "execution_count": 104,
   "metadata": {},
   "outputs": [
    {
     "data": {
      "text/plain": [
       "array([[1.],\n",
       "       [1.],\n",
       "       [1.],\n",
       "       [1.],\n",
       "       [1.],\n",
       "       [1.],\n",
       "       [1.],\n",
       "       [1.],\n",
       "       [1.],\n",
       "       [1.],\n",
       "       [1.],\n",
       "       [1.],\n",
       "       [1.],\n",
       "       [1.],\n",
       "       [1.],\n",
       "       [1.],\n",
       "       [1.],\n",
       "       [1.],\n",
       "       [1.],\n",
       "       [1.],\n",
       "       [1.],\n",
       "       [1.],\n",
       "       [1.],\n",
       "       [1.]], dtype=float32)"
      ]
     },
     "execution_count": 104,
     "metadata": {},
     "output_type": "execute_result"
    }
   ],
   "source": [
    "y_pred = model.predict([x_test[:,:,0],x_test[:,:,1]])\n",
    "y_pred"
   ]
  },
  {
   "cell_type": "code",
   "execution_count": null,
   "metadata": {},
   "outputs": [],
   "source": []
  }
 ],
 "metadata": {
  "kernelspec": {
   "display_name": "phy-rehab",
   "language": "python",
   "name": "phy-rehab"
  },
  "language_info": {
   "codemirror_mode": {
    "name": "ipython",
    "version": 3
   },
   "file_extension": ".py",
   "mimetype": "text/x-python",
   "name": "python",
   "nbconvert_exporter": "python",
   "pygments_lexer": "ipython3",
   "version": "3.8.5"
  }
 },
 "nbformat": 4,
 "nbformat_minor": 4
}
