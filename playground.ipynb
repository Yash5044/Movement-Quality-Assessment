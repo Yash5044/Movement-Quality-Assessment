{
 "cells": [
  {
   "cell_type": "code",
   "execution_count": 1,
   "metadata": {},
   "outputs": [],
   "source": [
    "import os, csv\n",
    "import pandas as pd\n",
    "import numpy as np\n",
    "from keras.preprocessing import sequence\n",
    "import matplotlib.pyplot as plt\n",
    "from keras.models import Sequential, Model\n",
    "from keras import layers, Input\n",
    "from keras.optimizers import RMSprop\n",
    "from sklearn.model_selection import train_test_split"
   ]
  },
  {
   "cell_type": "code",
   "execution_count": 2,
   "metadata": {},
   "outputs": [
    {
     "name": "stdout",
     "output_type": "stream",
     "text": [
      "(505, 2)\n",
      "(904, 2)\n",
      "(479, 2)\n",
      "(552, 2)\n",
      "(996, 2)\n",
      "(697, 2)\n",
      "(561, 2)\n",
      "(880, 2)\n",
      "(1134, 2)\n",
      "(799, 2)\n",
      "(652, 2)\n",
      "(591, 2)\n",
      "(435, 2)\n",
      "(520, 2)\n",
      "(948, 2)\n",
      "(602, 2)\n",
      "(437, 2)\n",
      "(928, 2)\n",
      "(853, 2)\n",
      "(754, 2)\n",
      "(599, 2)\n",
      "(568, 2)\n",
      "(518, 2)\n",
      "(507, 2)\n",
      "(551, 2)\n",
      "(520, 2)\n",
      "(570, 2)\n",
      "(912, 2)\n",
      "(1094, 2)\n",
      "(920, 2)\n",
      "(1135, 2)\n",
      "(627, 2)\n",
      "(535, 2)\n",
      "(417, 2)\n",
      "(507, 2)\n",
      "(714, 2)\n",
      "(444, 2)\n",
      "(314, 2)\n",
      "(568, 2)\n",
      "(838, 2)\n",
      "(1003, 2)\n",
      "(783, 2)\n",
      "(817, 2)\n",
      "(898, 2)\n",
      "(1515, 2)\n",
      "(577, 2)\n",
      "(621, 2)\n",
      "(399, 2)\n",
      "(777, 2)\n",
      "(526, 2)\n",
      "(623, 2)\n",
      "(813, 2)\n",
      "(2487, 2)\n",
      "(699, 2)\n",
      "(288, 2)\n",
      "(706, 2)\n",
      "(1222, 2)\n",
      "(405, 2)\n",
      "(974, 2)\n",
      "(1094, 2)\n",
      "(1003, 2)\n",
      "(1159, 2)\n",
      "(596, 2)\n",
      "(502, 2)\n",
      "(1221, 2)\n",
      "(781, 2)\n",
      "(1543, 2)\n",
      "(392, 2)\n",
      "(568, 2)\n",
      "(459, 2)\n",
      "(476, 2)\n",
      "(605, 2)\n",
      "(499, 2)\n",
      "(540, 2)\n",
      "(453, 2)\n",
      "(658, 2)\n",
      "(532, 2)\n",
      "(700, 2)\n",
      "x_val shape: (78, 2500, 2)\n"
     ]
    }
   ],
   "source": [
    "types = {'B_ID':8, 'E_ID':17, 'NE_ID':27, 'S_ID':10, 'P_ID':16}\n",
    "x_val = []\n",
    "x_id = []\n",
    "for ids, vals in types.items():\n",
    "    for i in range(1,vals+1):\n",
    "        x_id.append(ids + str(i))\n",
    "        try: \n",
    "            with open(\"./po-cf-ex-1-features/\"+ids+str(i)+\".csv\", 'r') as f:\n",
    "                temp = list(csv.reader(f, delimiter = \",\"))\n",
    "            temp = np.asarray(temp)\n",
    "            temp = temp[:,:2].astype(np.float64)\n",
    "        except:\n",
    "            print(ids, i)\n",
    "        print(temp.shape)\n",
    "        x_val.append(temp.tolist())\n",
    "x_val = np.asarray(sequence.pad_sequences(x_val, maxlen=2500)).astype(np.float64)\n",
    "print(\"x_val shape:\", x_val.shape)\n",
    "# len(x_val[1][0])"
   ]
  },
  {
   "cell_type": "code",
   "execution_count": 3,
   "metadata": {},
   "outputs": [
    {
     "name": "stderr",
     "output_type": "stream",
     "text": [
      "/home/yash/.local/lib/python3.8/site-packages/openpyxl/worksheet/_reader.py:312: UserWarning: Unknown extension is not supported and will be removed\n",
      "  warn(msg)\n"
     ]
    },
    {
     "name": "stdout",
     "output_type": "stream",
     "text": [
      "shape of CF:  (78,)\n",
      "shape of PO:  (78,)\n"
     ]
    }
   ],
   "source": [
    "df = pd.read_excel(\"./KiMoRe/E_ID1/Es1/Label/ClinicalAssessment_E_ID1.xlsx\")\n",
    "po_val = []\n",
    "cf_val = []\n",
    "for ids in x_id:\n",
    "    try:\n",
    "        df = pd.read_excel(\"./KiMoRe/\"+ids+\"/Es1/Label/ClinicalAssessment_\"+ids+\".xlsx\")\n",
    "    except:\n",
    "        print(\"problem in: \", ids)\n",
    "    df = np.array(df).reshape((16,))\n",
    "    po_val.append(df[6])\n",
    "    cf_val.append(df[1])\n",
    "po_val = np.asarray(po_val)\n",
    "cf_val = np.asarray(cf_val)\n",
    "print(\"shape of CF: \", cf_val.shape)\n",
    "print(\"shape of PO: \", po_val.shape)"
   ]
  },
  {
   "cell_type": "code",
   "execution_count": 4,
   "metadata": {},
   "outputs": [
    {
     "name": "stdout",
     "output_type": "stream",
     "text": [
      "Model: \"model\"\n",
      "__________________________________________________________________________________________________\n",
      "Layer (type)                    Output Shape         Param #     Connected to                     \n",
      "==================================================================================================\n",
      "ip1 (InputLayer)                [(None, None)]       0                                            \n",
      "__________________________________________________________________________________________________\n",
      "ip2 (InputLayer)                [(None, None)]       0                                            \n",
      "__________________________________________________________________________________________________\n",
      "embedding (Embedding)           (None, None, 2501)   160064      ip1[0][0]                        \n",
      "__________________________________________________________________________________________________\n",
      "embedding_1 (Embedding)         (None, None, 2501)   160064      ip2[0][0]                        \n",
      "__________________________________________________________________________________________________\n",
      "lstm (LSTM)                     (None, 32)           324352      embedding[0][0]                  \n",
      "__________________________________________________________________________________________________\n",
      "lstm_1 (LSTM)                   (None, 32)           324352      embedding_1[0][0]                \n",
      "__________________________________________________________________________________________________\n",
      "concatenate (Concatenate)       (None, 64)           0           lstm[0][0]                       \n",
      "                                                                 lstm_1[0][0]                     \n",
      "__________________________________________________________________________________________________\n",
      "dense (Dense)                   (None, 1)            65          concatenate[0][0]                \n",
      "==================================================================================================\n",
      "Total params: 968,897\n",
      "Trainable params: 968,897\n",
      "Non-trainable params: 0\n",
      "__________________________________________________________________________________________________\n"
     ]
    }
   ],
   "source": [
    "input1 = Input(shape = (None,), name = 'ip1')\n",
    "embed1 = layers.Embedding(64, 2501, mask_zero = True)(input1)\n",
    "encoded_input1 = layers.LSTM(32)(embed1)\n",
    "input2 = Input(shape = (None,), name = 'ip2')\n",
    "embed2 = layers.Embedding(64, 2501)(input2)\n",
    "encoded_input2 = layers.LSTM(32)(embed2)\n",
    "concatenated = layers.concatenate([encoded_input1, encoded_input2],\n",
    "axis=-1)\n",
    "output = layers.Dense(1,activation='softmax')(concatenated)\n",
    "model = Model([input1, input2], output);\n",
    "model.compile(optimizer='rmsprop',\n",
    "loss='categorical_crossentropy',\n",
    "metrics=['acc'],ver)\n",
    "model.summary()"
   ]
  },
  {
   "cell_type": "code",
   "execution_count": 5,
   "metadata": {},
   "outputs": [],
   "source": [
    "x_val /= np.max(np.abs(x_val))\n",
    "po_val /= np.max(np.abs(po_val))\n",
    "x_train, x_test, y_train, y_test = train_test_split(x_val,po_val, test_size=0.3)"
   ]
  },
  {
   "cell_type": "code",
   "execution_count": 6,
   "metadata": {},
   "outputs": [
    {
     "data": {
      "text/plain": [
       "(54, 2500)"
      ]
     },
     "execution_count": 6,
     "metadata": {},
     "output_type": "execute_result"
    }
   ],
   "source": [
    "x_train[:,:,1].shape"
   ]
  },
  {
   "cell_type": "code",
   "execution_count": 7,
   "metadata": {},
   "outputs": [
    {
     "data": {
      "text/plain": [
       "[<matplotlib.lines.Line2D at 0x7fdc984d2f70>]"
      ]
     },
     "execution_count": 7,
     "metadata": {},
     "output_type": "execute_result"
    },
    {
     "data": {
      "image/png": "[encoded data removed]",
      "text/plain": [
       "<Figure size 432x288 with 1 Axes>"
      ]
     },
     "metadata": {
      "needs_background": "light"
     },
     "output_type": "display_data"
    }
   ],
   "source": [
    "plt.plot(x_val[0,:,:1])"
   ]
  },
  {
   "cell_type": "code",
   "execution_count": 8,
   "metadata": {},
   "outputs": [
    {
     "data": {
      "text/plain": [
       "[<matplotlib.lines.Line2D at 0x7fdc98419a90>]"
      ]
     },
     "execution_count": 8,
     "metadata": {},
     "output_type": "execute_result"
    },
    {
     "data": {
      "image/png": "[encoded data removed]",
      "text/plain": [
       "<Figure size 432x288 with 1 Axes>"
      ]
     },
     "metadata": {
      "needs_background": "light"
     },
     "output_type": "display_data"
    }
   ],
   "source": [
    "plt.plot(x_val[0,:,1:])"
   ]
  },
  {
   "cell_type": "code",
   "execution_count": 125,
   "metadata": {},
   "outputs": [
    {
     "name": "stdout",
     "output_type": "stream",
     "text": [
      "Epoch 1/100\n",
      "2/2 [==============================] - 1s 181ms/step - loss: nan - acc: 0.0000e+00 - val_loss: nan - val_acc: 0.0000e+00\n",
      "Epoch 2/100\n",
      "2/2 [==============================] - 0s 80ms/step - loss: nan - acc: 0.0000e+00 - val_loss: nan - val_acc: 0.0000e+00\n",
      "Epoch 3/100\n",
      "2/2 [==============================] - 0s 164ms/step - loss: nan - acc: 0.0000e+00 - val_loss: nan - val_acc: 0.0000e+00\n",
      "Epoch 4/100\n",
      "2/2 [==============================] - 0s 76ms/step - loss: nan - acc: 0.0000e+00 - val_loss: nan - val_acc: 0.0000e+00\n",
      "Epoch 5/100\n",
      "2/2 [==============================] - 0s 81ms/step - loss: nan - acc: 0.0000e+00 - val_loss: nan - val_acc: 0.0000e+00\n",
      "Epoch 6/100\n",
      "2/2 [==============================] - 0s 75ms/step - loss: nan - acc: 0.0000e+00 - val_loss: nan - val_acc: 0.0000e+00\n",
      "Epoch 7/100\n",
      "2/2 [==============================] - 0s 78ms/step - loss: nan - acc: 0.0000e+00 - val_loss: nan - val_acc: 0.0000e+00\n",
      "Epoch 8/100\n",
      "2/2 [==============================] - 0s 82ms/step - loss: nan - acc: 0.0000e+00 - val_loss: nan - val_acc: 0.0000e+00\n",
      "Epoch 9/100\n",
      "2/2 [==============================] - 0s 161ms/step - loss: nan - acc: 0.0000e+00 - val_loss: nan - val_acc: 0.0000e+00\n",
      "Epoch 10/100\n",
      "2/2 [==============================] - 0s 162ms/step - loss: nan - acc: 0.0000e+00 - val_loss: nan - val_acc: 0.0000e+00\n",
      "Epoch 11/100\n",
      "2/2 [==============================] - 0s 78ms/step - loss: nan - acc: 0.0000e+00 - val_loss: nan - val_acc: 0.0000e+00\n",
      "Epoch 12/100\n",
      "2/2 [==============================] - 0s 78ms/step - loss: nan - acc: 0.0000e+00 - val_loss: nan - val_acc: 0.0000e+00\n",
      "Epoch 13/100\n",
      "2/2 [==============================] - 0s 79ms/step - loss: nan - acc: 0.0000e+00 - val_loss: nan - val_acc: 0.0000e+00\n",
      "Epoch 14/100\n",
      "2/2 [==============================] - 0s 112ms/step - loss: nan - acc: 0.0000e+00 - val_loss: nan - val_acc: 0.0000e+00\n",
      "Epoch 15/100\n",
      "2/2 [==============================] - 0s 83ms/step - loss: nan - acc: 0.0000e+00 - val_loss: nan - val_acc: 0.0000e+00\n",
      "Epoch 16/100\n",
      "2/2 [==============================] - 0s 83ms/step - loss: nan - acc: 0.0000e+00 - val_loss: nan - val_acc: 0.0000e+00\n",
      "Epoch 17/100\n",
      "2/2 [==============================] - 0s 81ms/step - loss: nan - acc: 0.0000e+00 - val_loss: nan - val_acc: 0.0000e+00\n",
      "Epoch 18/100\n",
      "2/2 [==============================] - 0s 82ms/step - loss: nan - acc: 0.0000e+00 - val_loss: nan - val_acc: 0.0000e+00\n",
      "Epoch 19/100\n",
      "2/2 [==============================] - 0s 83ms/step - loss: nan - acc: 0.0000e+00 - val_loss: nan - val_acc: 0.0000e+00\n",
      "Epoch 20/100\n",
      "2/2 [==============================] - 0s 85ms/step - loss: nan - acc: 0.0000e+00 - val_loss: nan - val_acc: 0.0000e+00\n",
      "Epoch 21/100\n",
      "2/2 [==============================] - 0s 90ms/step - loss: nan - acc: 0.0000e+00 - val_loss: nan - val_acc: 0.0000e+00\n",
      "Epoch 22/100\n",
      "2/2 [==============================] - 0s 75ms/step - loss: nan - acc: 0.0000e+00 - val_loss: nan - val_acc: 0.0000e+00\n",
      "Epoch 23/100\n",
      "2/2 [==============================] - 0s 76ms/step - loss: nan - acc: 0.0000e+00 - val_loss: nan - val_acc: 0.0000e+00\n",
      "Epoch 24/100\n",
      "2/2 [==============================] - 0s 100ms/step - loss: nan - acc: 0.0000e+00 - val_loss: nan - val_acc: 0.0000e+00\n",
      "Epoch 25/100\n",
      "2/2 [==============================] - 0s 106ms/step - loss: nan - acc: 0.0000e+00 - val_loss: nan - val_acc: 0.0000e+00\n",
      "Epoch 26/100\n",
      "2/2 [==============================] - 0s 95ms/step - loss: nan - acc: 0.0000e+00 - val_loss: nan - val_acc: 0.0000e+00\n",
      "Epoch 27/100\n",
      "2/2 [==============================] - 0s 100ms/step - loss: nan - acc: 0.0000e+00 - val_loss: nan - val_acc: 0.0000e+00\n",
      "Epoch 28/100\n",
      "2/2 [==============================] - 0s 109ms/step - loss: nan - acc: 0.0000e+00 - val_loss: nan - val_acc: 0.0000e+00\n",
      "Epoch 29/100\n",
      "2/2 [==============================] - 0s 94ms/step - loss: nan - acc: 0.0000e+00 - val_loss: nan - val_acc: 0.0000e+00\n",
      "Epoch 30/100\n",
      "2/2 [==============================] - 0s 93ms/step - loss: nan - acc: 0.0000e+00 - val_loss: nan - val_acc: 0.0000e+00\n",
      "Epoch 31/100\n",
      "2/2 [==============================] - 0s 81ms/step - loss: nan - acc: 0.0000e+00 - val_loss: nan - val_acc: 0.0000e+00\n",
      "Epoch 32/100\n",
      "2/2 [==============================] - 0s 104ms/step - loss: nan - acc: 0.0000e+00 - val_loss: nan - val_acc: 0.0000e+00\n",
      "Epoch 33/100\n",
      "2/2 [==============================] - 0s 120ms/step - loss: nan - acc: 0.0000e+00 - val_loss: nan - val_acc: 0.0000e+00\n",
      "Epoch 34/100\n",
      "2/2 [==============================] - 0s 105ms/step - loss: nan - acc: 0.0000e+00 - val_loss: nan - val_acc: 0.0000e+00\n",
      "Epoch 35/100\n",
      "2/2 [==============================] - 0s 88ms/step - loss: nan - acc: 0.0000e+00 - val_loss: nan - val_acc: 0.0000e+00\n",
      "Epoch 36/100\n",
      "2/2 [==============================] - 0s 65ms/step - loss: nan - acc: 0.0000e+00 - val_loss: nan - val_acc: 0.0000e+00\n",
      "Epoch 37/100\n",
      "2/2 [==============================] - 0s 74ms/step - loss: nan - acc: 0.0000e+00 - val_loss: nan - val_acc: 0.0000e+00\n",
      "Epoch 38/100\n",
      "2/2 [==============================] - 0s 64ms/step - loss: nan - acc: 0.0000e+00 - val_loss: nan - val_acc: 0.0000e+00\n",
      "Epoch 39/100\n",
      "2/2 [==============================] - 0s 65ms/step - loss: nan - acc: 0.0000e+00 - val_loss: nan - val_acc: 0.0000e+00\n",
      "Epoch 40/100\n",
      "2/2 [==============================] - 0s 63ms/step - loss: nan - acc: 0.0000e+00 - val_loss: nan - val_acc: 0.0000e+00\n",
      "Epoch 41/100\n",
      "2/2 [==============================] - 0s 63ms/step - loss: nan - acc: 0.0000e+00 - val_loss: nan - val_acc: 0.0000e+00\n",
      "Epoch 42/100\n",
      "2/2 [==============================] - 0s 65ms/step - loss: nan - acc: 0.0000e+00 - val_loss: nan - val_acc: 0.0000e+00\n",
      "Epoch 43/100\n",
      "2/2 [==============================] - 0s 74ms/step - loss: nan - acc: 0.0000e+00 - val_loss: nan - val_acc: 0.0000e+00\n",
      "Epoch 44/100\n",
      "2/2 [==============================] - 0s 73ms/step - loss: nan - acc: 0.0000e+00 - val_loss: nan - val_acc: 0.0000e+00\n",
      "Epoch 45/100\n",
      "2/2 [==============================] - 0s 67ms/step - loss: nan - acc: 0.0000e+00 - val_loss: nan - val_acc: 0.0000e+00\n",
      "Epoch 46/100\n",
      "2/2 [==============================] - 0s 66ms/step - loss: nan - acc: 0.0000e+00 - val_loss: nan - val_acc: 0.0000e+00\n",
      "Epoch 47/100\n",
      "2/2 [==============================] - 0s 70ms/step - loss: nan - acc: 0.0000e+00 - val_loss: nan - val_acc: 0.0000e+00\n",
      "Epoch 48/100\n",
      "2/2 [==============================] - 0s 62ms/step - loss: nan - acc: 0.0000e+00 - val_loss: nan - val_acc: 0.0000e+00\n",
      "Epoch 49/100\n",
      "2/2 [==============================] - 0s 74ms/step - loss: nan - acc: 0.0000e+00 - val_loss: nan - val_acc: 0.0000e+00\n",
      "Epoch 50/100\n",
      "2/2 [==============================] - 0s 64ms/step - loss: nan - acc: 0.0000e+00 - val_loss: nan - val_acc: 0.0000e+00\n",
      "Epoch 51/100\n",
      "2/2 [==============================] - 0s 63ms/step - loss: nan - acc: 0.0000e+00 - val_loss: nan - val_acc: 0.0000e+00\n",
      "Epoch 52/100\n",
      "2/2 [==============================] - 0s 69ms/step - loss: nan - acc: 0.0000e+00 - val_loss: nan - val_acc: 0.0000e+00\n",
      "Epoch 53/100\n",
      "2/2 [==============================] - 0s 64ms/step - loss: nan - acc: 0.0000e+00 - val_loss: nan - val_acc: 0.0000e+00\n",
      "Epoch 54/100\n",
      "2/2 [==============================] - 0s 66ms/step - loss: nan - acc: 0.0000e+00 - val_loss: nan - val_acc: 0.0000e+00\n",
      "Epoch 55/100\n",
      "2/2 [==============================] - 0s 62ms/step - loss: nan - acc: 0.0000e+00 - val_loss: nan - val_acc: 0.0000e+00\n",
      "Epoch 56/100\n",
      "2/2 [==============================] - 0s 63ms/step - loss: nan - acc: 0.0000e+00 - val_loss: nan - val_acc: 0.0000e+00\n",
      "Epoch 57/100\n",
      "2/2 [==============================] - 0s 77ms/step - loss: nan - acc: 0.0000e+00 - val_loss: nan - val_acc: 0.0000e+00\n",
      "Epoch 58/100\n",
      "2/2 [==============================] - 0s 62ms/step - loss: nan - acc: 0.0000e+00 - val_loss: nan - val_acc: 0.0000e+00\n",
      "Epoch 59/100\n",
      "2/2 [==============================] - 0s 64ms/step - loss: nan - acc: 0.0000e+00 - val_loss: nan - val_acc: 0.0000e+00\n",
      "Epoch 60/100\n",
      "2/2 [==============================] - 0s 66ms/step - loss: nan - acc: 0.0000e+00 - val_loss: nan - val_acc: 0.0000e+00\n",
      "Epoch 61/100\n",
      "2/2 [==============================] - 0s 73ms/step - loss: nan - acc: 0.0000e+00 - val_loss: nan - val_acc: 0.0000e+00\n",
      "Epoch 62/100\n",
      "2/2 [==============================] - 0s 84ms/step - loss: nan - acc: 0.0000e+00 - val_loss: nan - val_acc: 0.0000e+00\n",
      "Epoch 63/100\n",
      "2/2 [==============================] - 0s 98ms/step - loss: nan - acc: 0.0000e+00 - val_loss: nan - val_acc: 0.0000e+00\n",
      "Epoch 64/100\n",
      "2/2 [==============================] - 0s 83ms/step - loss: nan - acc: 0.0000e+00 - val_loss: nan - val_acc: 0.0000e+00\n",
      "Epoch 65/100\n",
      "2/2 [==============================] - 0s 63ms/step - loss: nan - acc: 0.0000e+00 - val_loss: nan - val_acc: 0.0000e+00\n",
      "Epoch 66/100\n",
      "2/2 [==============================] - 0s 64ms/step - loss: nan - acc: 0.0000e+00 - val_loss: nan - val_acc: 0.0000e+00\n",
      "Epoch 67/100\n",
      "2/2 [==============================] - 0s 68ms/step - loss: nan - acc: 0.0000e+00 - val_loss: nan - val_acc: 0.0000e+00\n",
      "Epoch 68/100\n",
      "2/2 [==============================] - 0s 65ms/step - loss: nan - acc: 0.0000e+00 - val_loss: nan - val_acc: 0.0000e+00\n",
      "Epoch 69/100\n",
      "2/2 [==============================] - 0s 63ms/step - loss: nan - acc: 0.0000e+00 - val_loss: nan - val_acc: 0.0000e+00\n",
      "Epoch 70/100\n",
      "2/2 [==============================] - 0s 69ms/step - loss: nan - acc: 0.0000e+00 - val_loss: nan - val_acc: 0.0000e+00\n",
      "Epoch 71/100\n",
      "2/2 [==============================] - 0s 64ms/step - loss: nan - acc: 0.0000e+00 - val_loss: nan - val_acc: 0.0000e+00\n",
      "Epoch 72/100\n",
      "2/2 [==============================] - 0s 64ms/step - loss: nan - acc: 0.0000e+00 - val_loss: nan - val_acc: 0.0000e+00\n",
      "Epoch 73/100\n",
      "2/2 [==============================] - 0s 71ms/step - loss: nan - acc: 0.0000e+00 - val_loss: nan - val_acc: 0.0000e+00\n",
      "Epoch 74/100\n",
      "2/2 [==============================] - 0s 63ms/step - loss: nan - acc: 0.0000e+00 - val_loss: nan - val_acc: 0.0000e+00\n",
      "Epoch 75/100\n",
      "2/2 [==============================] - 0s 74ms/step - loss: nan - acc: 0.0000e+00 - val_loss: nan - val_acc: 0.0000e+00\n",
      "Epoch 76/100\n",
      "2/2 [==============================] - 0s 64ms/step - loss: nan - acc: 0.0000e+00 - val_loss: nan - val_acc: 0.0000e+00\n",
      "Epoch 77/100\n",
      "2/2 [==============================] - 0s 63ms/step - loss: nan - acc: 0.0000e+00 - val_loss: nan - val_acc: 0.0000e+00\n",
      "Epoch 78/100\n",
      "2/2 [==============================] - 0s 70ms/step - loss: nan - acc: 0.0000e+00 - val_loss: nan - val_acc: 0.0000e+00\n",
      "Epoch 79/100\n",
      "2/2 [==============================] - 0s 66ms/step - loss: nan - acc: 0.0000e+00 - val_loss: nan - val_acc: 0.0000e+00\n",
      "Epoch 80/100\n",
      "2/2 [==============================] - 0s 64ms/step - loss: nan - acc: 0.0000e+00 - val_loss: nan - val_acc: 0.0000e+00\n",
      "Epoch 81/100\n",
      "2/2 [==============================] - 0s 63ms/step - loss: nan - acc: 0.0000e+00 - val_loss: nan - val_acc: 0.0000e+00\n",
      "Epoch 82/100\n",
      "2/2 [==============================] - 0s 64ms/step - loss: nan - acc: 0.0000e+00 - val_loss: nan - val_acc: 0.0000e+00\n",
      "Epoch 83/100\n",
      "2/2 [==============================] - 0s 65ms/step - loss: nan - acc: 0.0000e+00 - val_loss: nan - val_acc: 0.0000e+00\n",
      "Epoch 84/100\n",
      "2/2 [==============================] - 0s 74ms/step - loss: nan - acc: 0.0000e+00 - val_loss: nan - val_acc: 0.0000e+00\n",
      "Epoch 85/100\n",
      "2/2 [==============================] - 0s 63ms/step - loss: nan - acc: 0.0000e+00 - val_loss: nan - val_acc: 0.0000e+00\n",
      "Epoch 86/100\n",
      "2/2 [==============================] - 0s 73ms/step - loss: nan - acc: 0.0000e+00 - val_loss: nan - val_acc: 0.0000e+00\n",
      "Epoch 87/100\n",
      "2/2 [==============================] - 0s 63ms/step - loss: nan - acc: 0.0000e+00 - val_loss: nan - val_acc: 0.0000e+00\n",
      "Epoch 88/100\n",
      "2/2 [==============================] - 0s 64ms/step - loss: nan - acc: 0.0000e+00 - val_loss: nan - val_acc: 0.0000e+00\n",
      "Epoch 89/100\n",
      "2/2 [==============================] - 0s 73ms/step - loss: nan - acc: 0.0000e+00 - val_loss: nan - val_acc: 0.0000e+00\n",
      "Epoch 90/100\n",
      "2/2 [==============================] - 0s 71ms/step - loss: nan - acc: 0.0000e+00 - val_loss: nan - val_acc: 0.0000e+00\n",
      "Epoch 91/100\n",
      "2/2 [==============================] - 0s 66ms/step - loss: nan - acc: 0.0000e+00 - val_loss: nan - val_acc: 0.0000e+00\n",
      "Epoch 92/100\n",
      "2/2 [==============================] - 0s 69ms/step - loss: nan - acc: 0.0000e+00 - val_loss: nan - val_acc: 0.0000e+00\n",
      "Epoch 93/100\n",
      "2/2 [==============================] - 0s 74ms/step - loss: nan - acc: 0.0000e+00 - val_loss: nan - val_acc: 0.0000e+00\n",
      "Epoch 94/100\n",
      "2/2 [==============================] - 0s 67ms/step - loss: nan - acc: 0.0000e+00 - val_loss: nan - val_acc: 0.0000e+00\n",
      "Epoch 95/100\n",
      "2/2 [==============================] - 0s 69ms/step - loss: nan - acc: 0.0000e+00 - val_loss: nan - val_acc: 0.0000e+00\n",
      "Epoch 96/100\n",
      "2/2 [==============================] - 0s 65ms/step - loss: nan - acc: 0.0000e+00 - val_loss: nan - val_acc: 0.0000e+00\n",
      "Epoch 97/100\n",
      "2/2 [==============================] - 0s 107ms/step - loss: nan - acc: 0.0000e+00 - val_loss: nan - val_acc: 0.0000e+00\n",
      "Epoch 98/100\n",
      "2/2 [==============================] - 0s 141ms/step - loss: nan - acc: 0.0000e+00 - val_loss: nan - val_acc: 0.0000e+00\n",
      "Epoch 99/100\n",
      "2/2 [==============================] - 0s 79ms/step - loss: nan - acc: 0.0000e+00 - val_loss: nan - val_acc: 0.0000e+00\n",
      "Epoch 100/100\n",
      "2/2 [==============================] - 0s 97ms/step - loss: nan - acc: 0.0000e+00 - val_loss: nan - val_acc: 0.0000e+00\n"
     ]
    }
   ],
   "source": [
    "history = model.fit([x_train[:,:,0], x_train[:,:,1]], y_train,epochs=100, validation_split=0.2)"
   ]
  },
  {
   "cell_type": "code",
   "execution_count": null,
   "metadata": {},
   "outputs": [],
   "source": []
  }
 ],
 "metadata": {
  "kernelspec": {
   "display_name": "phy-rehab",
   "language": "python",
   "name": "phy-rehab"
  },
  "language_info": {
   "codemirror_mode": {
    "name": "ipython",
    "version": 3
   },
   "file_extension": ".py",
   "mimetype": "text/x-python",
   "name": "python",
   "nbconvert_exporter": "python",
   "pygments_lexer": "ipython3",
   "version": "3.8.5"
  }
 },
 "nbformat": 4,
 "nbformat_minor": 4
}
